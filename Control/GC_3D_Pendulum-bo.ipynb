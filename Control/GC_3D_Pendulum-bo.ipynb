{
 "cells": [
  {
   "cell_type": "code",
   "execution_count": 1,
   "metadata": {
    "collapsed": true
   },
   "outputs": [],
   "source": [
    "import numpy as np\n",
    "import matplotlib.pylab as plt\n",
    "import quadprog as QP\n",
    "from mpl_toolkits.mplot3d import Axes3D"
   ]
  },
  {
   "cell_type": "code",
   "execution_count": 2,
   "metadata": {
    "collapsed": true
   },
   "outputs": [],
   "source": [
    "def hat_map(x):   \n",
    "    return np.array([[0,-x[2],x[1]],[x[2],0,-x[0]],[-x[1],x[0],0]])"
   ]
  },
  {
   "cell_type": "code",
   "execution_count": 3,
   "metadata": {
    "collapsed": true
   },
   "outputs": [],
   "source": [
    "def position_dynamics(tau,x,xdot,v):\n",
    "    return(xdot)"
   ]
  },
  {
   "cell_type": "code",
   "execution_count": 4,
   "metadata": {
    "collapsed": true
   },
   "outputs": [],
   "source": [
    "def velocity_dynamics(tau,x,xdot,v):    \n",
    "    return(-np.inner(xdot,xdot)*x+v)"
   ]
  },
  {
   "cell_type": "code",
   "execution_count": 165,
   "metadata": {
    "collapsed": true
   },
   "outputs": [],
   "source": [
    "def reference(tau):\n",
    "    ref_theta = 5*np.pi/9\n",
    "    ref_phi = 0.25*tau\n",
    "    return(np.array([np.sin(ref_theta)*np.cos(ref_phi),np.sin(ref_theta)*np.sin(ref_phi),np.cos(ref_theta)]))"
   ]
  },
  {
   "cell_type": "code",
   "execution_count": 166,
   "metadata": {
    "collapsed": true
   },
   "outputs": [],
   "source": [
    "def reference_velocity(tau):\n",
    "    ref_theta = 5*np.pi/9\n",
    "    ref_phi = 0.25*tau\n",
    "    return(np.array([-0.25*np.sin(ref_theta)*np.sin(ref_phi),0.25*np.sin(ref_theta)*np.cos(ref_phi),np.cos(ref_theta)]))"
   ]
  },
  {
   "cell_type": "code",
   "execution_count": 167,
   "metadata": {
    "collapsed": true
   },
   "outputs": [],
   "source": [
    "def reference_acceleration(tau):\n",
    "    ref_theta = 5*np.pi/9\n",
    "    ref_phi = 0.25*tau\n",
    "    return(np.array([-0.25**2*np.sin(ref_theta)*np.cos(ref_phi),-0.25**2*np.sin(ref_theta)*np.sin(ref_phi),np.cos(ref_theta)]))"
   ]
  },
  {
   "cell_type": "code",
   "execution_count": 8,
   "metadata": {
    "collapsed": true
   },
   "outputs": [],
   "source": [
    "def safety_center(tau,invariant):\n",
    "    if invariant == 1:\n",
    "        return(np.array([0,0,-1]))\n",
    "    else:\n",
    "        ref_theta = 4*np.pi/5\n",
    "        ref_phi = 0.25*tau\n",
    "        return(np.array([np.sin(ref_theta)*np.cos(ref_phi),np.sin(ref_theta)*np.sin(ref_phi),np.cos(ref_theta)]))"
   ]
  },
  {
   "cell_type": "code",
   "execution_count": 9,
   "metadata": {
    "collapsed": true
   },
   "outputs": [],
   "source": [
    "def safety_center_velocity(tau,invariant):  \n",
    "    if invariant == 1:\n",
    "        return(np.array([0,0,0]))\n",
    "    else:\n",
    "        ref_theta = 4*np.pi/5\n",
    "        ref_phi = 0.25*tau\n",
    "        return(np.array([-0.25*np.sin(ref_theta)*np.sin(ref_phi),0.25*np.sin(ref_theta)*np.cos(ref_phi),np.cos(ref_theta)]))"
   ]
  },
  {
   "cell_type": "code",
   "execution_count": 10,
   "metadata": {
    "collapsed": true
   },
   "outputs": [],
   "source": [
    "def safety_center_acceleration(tau,invariant):  \n",
    "    if invariant == 1:\n",
    "        return(np.array([0,0,0]))\n",
    "    else:\n",
    "        ref_theta = 4*np.pi/5\n",
    "        ref_phi = 0.25*tau\n",
    "        return(np.array([-0.25**2*np.sin(ref_theta)*np.cos(ref_phi),-0.25**2*np.sin(ref_theta)*np.sin(ref_phi),np.cos(ref_theta)]))"
   ]
  },
  {
   "cell_type": "code",
   "execution_count": 11,
   "metadata": {
    "collapsed": true
   },
   "outputs": [],
   "source": [
    "def position_error(tau,x):    \n",
    "    return(np.dot(hat_map(x)**2,reference(tau)))"
   ]
  },
  {
   "cell_type": "code",
   "execution_count": 12,
   "metadata": {
    "collapsed": true
   },
   "outputs": [],
   "source": [
    "def velocity_error(tau,x,xdot):    \n",
    "    return(xdot-np.cross(np.cross(reference(tau),reference_velocity(tau)),x))"
   ]
  },
  {
   "cell_type": "code",
   "execution_count": 13,
   "metadata": {
    "collapsed": true
   },
   "outputs": [],
   "source": [
    "def safety_constraints(tau,x,invariant,i):\n",
    "    if i == 0:\n",
    "        g = np.cos(np.pi/12)-1+np.inner(x,safety_center(tau,invariant))\n",
    "    else:\n",
    "        if i == 1:\n",
    "            g = -np.cos(np.pi/4)+1-np.inner(x,safety_center(tau,invariant))\n",
    "    return(g)"
   ]
  },
  {
   "cell_type": "code",
   "execution_count": 14,
   "metadata": {
    "collapsed": true
   },
   "outputs": [],
   "source": [
    "def CLF(tau,x,xdot):\n",
    "    V1 = 0.5*np.inner(velocity_error(tau,x,xdot),velocity_error(tau,x,xdot))\n",
    "    V2 = 0.5*alpha*(1-np.inner(x,reference(tau)))\n",
    "    V3 = epsilon*np.inner(position_error(tau,x),velocity_error(tau,x,xdot))\n",
    "    return(V1+V2+V3)"
   ]
  },
  {
   "cell_type": "code",
   "execution_count": 15,
   "metadata": {
    "collapsed": true
   },
   "outputs": [],
   "source": [
    "def h_function(tau,x,xdot,i,invariant):\n",
    "    return(gamma[i]*safety_constraints(tau,x,invariant,i) + \n",
    "           (-1)**i*(np.inner(safety_center(tau,invariant),xdot)+np.inner(safety_center_velocity(tau,invariant),x)))"
   ]
  },
  {
   "cell_type": "code",
   "execution_count": 16,
   "metadata": {
    "collapsed": true
   },
   "outputs": [],
   "source": [
    "def CBF(tau,x,xdot,i,invariant):     \n",
    "    return(1/h_function(tau,x,xdot,i,invariant))"
   ]
  },
  {
   "cell_type": "code",
   "execution_count": 17,
   "metadata": {
    "collapsed": true
   },
   "outputs": [],
   "source": [
    "def feedforward_control_law(tau,x,xdot):\n",
    "    u1 = -np.cross(np.cross(reference(tau),reference_acceleration(tau)),x)    \n",
    "    u2 = -np.dot(hat_map(x)**2,np.cross((np.cross(reference(tau),reference_velocity(tau))),xdot).T).T\n",
    "    return(u1+u2)"
   ]
  },
  {
   "cell_type": "code",
   "execution_count": 18,
   "metadata": {
    "collapsed": true
   },
   "outputs": [],
   "source": [
    "def phi_0(tau,i,invariant):    \n",
    "    return((-1)**i*safety_center(tau,invariant))"
   ]
  },
  {
   "cell_type": "code",
   "execution_count": 19,
   "metadata": {
    "collapsed": true
   },
   "outputs": [],
   "source": [
    "def phi_1(tau,x,xdot,i,invariant):    \n",
    "    p1 = gamma[i]*(h_function(tau,x,xdot,i,invariant)-gamma[i]*safety_constraints(tau,x,invariant,i))\n",
    "    p2 = (-1)**i*(2*np.inner(xdot,safety_center_velocity(tau,invariant))+\n",
    "                    np.inner(x,safety_center_acceleration(tau,invariant))-\n",
    "                    np.inner(xdot,xdot)*np.inner(safety_center(tau,invariant),x))\n",
    "    return(p1+p2)"
   ]
  },
  {
   "cell_type": "code",
   "execution_count": 20,
   "metadata": {
    "collapsed": true
   },
   "outputs": [],
   "source": [
    "def psi_0(tau,x,xdot):\n",
    "    return(velocity_error(tau,x,xdot) + epsilon*position_error(tau,x))"
   ]
  },
  {
   "cell_type": "code",
   "execution_count": 21,
   "metadata": {
    "collapsed": true
   },
   "outputs": [],
   "source": [
    "def psi_1(tau,x,xdot):\n",
    "    p11 = np.cross(np.cross(reference(tau),reference_acceleration(tau)),x)\n",
    "    p12 = np.cross((np.cross(reference(tau),reference_velocity(tau))),xdot)\n",
    "    p13 = np.inner(xdot,xdot)*x\n",
    "    P1 = -np.inner(psi_0(tau,x,xdot),p11+p12+p13)\n",
    "    P2 = -0.5*alpha*(np.inner(xdot,reference(tau))+np.inner(x,reference_velocity(tau)))\n",
    "    p31 = np.cross(xdot,(np.cross(x,reference(tau))))\n",
    "    p32 = np.cross(x,(np.cross(xdot,reference(tau))+np.cross(x,reference_velocity(tau))))\n",
    "    P3 = np.inner(epsilon*velocity_error(tau,x,xdot),p31+p32)    \n",
    "    return(P1+P2+P3)"
   ]
  },
  {
   "cell_type": "code",
   "execution_count": 174,
   "metadata": {
    "collapsed": true
   },
   "outputs": [],
   "source": [
    "def second_order_rk4_step(tau,x0,xdot0,v):    \n",
    "    h = tau[1]-tau[0]\n",
    "    k11 = h*position_dynamics(tau[0],x0,xdot0,v)\n",
    "    k12 = h*velocity_dynamics(tau[0],x0,xdot0,v)\n",
    "    k21 = h*position_dynamics(tau[0]+h/2,x0+k11/2,xdot0+k12/2,v)\n",
    "    k22 = h*velocity_dynamics(tau[0]+h/2,x0+k11/2,xdot0+k12/2,v)\n",
    "    k31 = h*position_dynamics(tau[0]+h/2,x0+k21/2,xdot0+k22/2,v)\n",
    "    k32 = h*velocity_dynamics(tau[0]+h/2,x0+k21/2,xdot0+k22/2,v)\n",
    "    k41 = h*position_dynamics(tau[0]+h,x0+k31,xdot0+k32,v)\n",
    "    k42 = h*velocity_dynamics(tau[0]+h,x0+k31,xdot0+k32,v)\n",
    "    x = x0 + (k11+2*k21+2*k31+k41)/6   \n",
    "    x = x/np.linalg.norm(x)\n",
    "    xdot = xdot0 + (k12+2*k22+2*k32+k42)/6\n",
    "    xdot = xdot - np.inner(x,xdot)*x\n",
    "    return(x,xdot)"
   ]
  },
  {
   "cell_type": "code",
   "execution_count": 23,
   "metadata": {
    "collapsed": true
   },
   "outputs": [],
   "source": [
    "def leap_frog_step(tau,x0,xdot0,v):    \n",
    "    dt = tau[1]-tau[0]\n",
    "    if tau[0] == 0:\n",
    "        x = x0 + dt*xdot0\n",
    "        xdot = xdot0 + dt*velocity_dynamics(tau,x0,xdot0,v)\n",
    "    else:\n",
    "        x = x0 + 2*dt*xdot0\n",
    "        xdot = xdot0 + 2*dt*velocity_dynamics(tau,x0,xdot0,v)\n",
    "    x = x/np.linalg.norm(x)\n",
    "    xdot = xdot - np.inner(x,xdot)*x\n",
    "    return(x,xdot)"
   ]
  },
  {
   "cell_type": "code",
   "execution_count": 24,
   "metadata": {
    "collapsed": true
   },
   "outputs": [],
   "source": [
    "def geometric_control_law(tau,x,xdot,invariant):\n",
    "    G = np.concatenate((np.concatenate((H,np.zeros([3,1])),axis=1),np.array([np.array([0,0,0,Lambda])])),axis=0)\n",
    "    a = np.zeros([4,])     \n",
    "    c1 = np.concatenate((np.array([-psi_0(tau,x,xdot)]).T,np.ones([1,1])),axis=0)    \n",
    "    c2 = np.concatenate((np.array([phi_0(tau,0,invariant)]).T,np.zeros([1,1])),axis=0)\n",
    "    c3 = np.concatenate((np.array([phi_0(tau,1,invariant)]).T,np.zeros([1,1])),axis=0)\n",
    "    C = np.concatenate((c1,c2,c3),axis=1)\n",
    "    u_ff = feedforward_control_law(tau,x,xdot)\n",
    "    b1 = np.inner(psi_0(tau,x,xdot),u_ff)+psi_1(tau,x,xdot)+eta*CLF(tau,x,xdot)    \n",
    "    b2 = -(np.inner(phi_0(tau,0,invariant),u_ff)+phi_1(tau,x,xdot,0,invariant)+mu[0]*(h_function(tau,x,xdot,0,invariant))**3)\n",
    "    b3 = -(np.inner(phi_0(tau,1,invariant),u_ff)+phi_1(tau,x,xdot,1,invariant)+mu[1]*(h_function(tau,x,xdot,1,invariant))**3)\n",
    "    b = np.array([np.asscalar(b1),np.asscalar(b2),np.asscalar(b3)])    \n",
    "    x,f,xu,iterations,lagrangian,iact = QP.solve_qp(G,a,C,b)\n",
    "    x = np.array(x[0:3])\n",
    "    return(x)"
   ]
  },
  {
   "cell_type": "code",
   "execution_count": 2,
   "metadata": {},
   "outputs": [
    {
     "ename": "NameError",
     "evalue": "name 'np' is not defined",
     "output_type": "error",
     "traceback": [
      "\u001b[0;31m---------------------------------------------------------------------------\u001b[0m",
      "\u001b[0;31mNameError\u001b[0m                                 Traceback (most recent call last)",
      "\u001b[0;32m<ipython-input-2-4c9a1209b0a6>\u001b[0m in \u001b[0;36m<module>\u001b[0;34m()\u001b[0m\n\u001b[1;32m      6\u001b[0m \u001b[0mgamma\u001b[0m \u001b[0;34m=\u001b[0m \u001b[0;34m[\u001b[0m\u001b[0;36m80\u001b[0m\u001b[0;34m,\u001b[0m\u001b[0;36m80\u001b[0m\u001b[0;34m]\u001b[0m\u001b[0;34m\u001b[0m\u001b[0m\n\u001b[1;32m      7\u001b[0m \u001b[0;34m\u001b[0m\u001b[0m\n\u001b[0;32m----> 8\u001b[0;31m \u001b[0mH\u001b[0m \u001b[0;34m=\u001b[0m \u001b[0mnp\u001b[0m\u001b[0;34m.\u001b[0m\u001b[0marray\u001b[0m\u001b[0;34m(\u001b[0m\u001b[0;34m[\u001b[0m\u001b[0;34m[\u001b[0m\u001b[0;36m1\u001b[0m\u001b[0;34m,\u001b[0m \u001b[0;36m0\u001b[0m\u001b[0;34m,\u001b[0m \u001b[0;36m0\u001b[0m\u001b[0;34m]\u001b[0m\u001b[0;34m,\u001b[0m\u001b[0;34m[\u001b[0m\u001b[0;36m0\u001b[0m\u001b[0;34m,\u001b[0m \u001b[0;36m1\u001b[0m\u001b[0;34m,\u001b[0m \u001b[0;36m0\u001b[0m\u001b[0;34m]\u001b[0m\u001b[0;34m,\u001b[0m\u001b[0;34m[\u001b[0m\u001b[0;36m0\u001b[0m\u001b[0;34m,\u001b[0m\u001b[0;36m0\u001b[0m\u001b[0;34m,\u001b[0m\u001b[0;36m1\u001b[0m\u001b[0;34m]\u001b[0m\u001b[0;34m]\u001b[0m\u001b[0;34m)\u001b[0m\u001b[0;34m\u001b[0m\u001b[0m\n\u001b[0m\u001b[1;32m      9\u001b[0m \u001b[0mLambda\u001b[0m \u001b[0;34m=\u001b[0m \u001b[0;36m8\u001b[0m\u001b[0;34m\u001b[0m\u001b[0m\n\u001b[1;32m     10\u001b[0m \u001b[0meta\u001b[0m \u001b[0;34m=\u001b[0m \u001b[0;36m10\u001b[0m\u001b[0;34m\u001b[0m\u001b[0m\n",
      "\u001b[0;31mNameError\u001b[0m: name 'np' is not defined"
     ]
    }
   ],
   "source": [
    "t0 = 0\n",
    "tmax = 40\n",
    "n_points = 2000\n",
    "alpha = 5\n",
    "epsilon = 4\n",
    "gamma = [80,80]\n",
    "\n",
    "H = np.array([[1, 0, 0],[0, 1, 0],[0,0,1]])\n",
    "Lambda = 8\n",
    "eta = 10\n",
    "mu = 10*[1,1]\n",
    "invariance = 1"
   ]
  },
  {
   "cell_type": "code",
   "execution_count": 218,
   "metadata": {
    "collapsed": true
   },
   "outputs": [],
   "source": [
    "theta0 = 1.82 \n",
    "phi0 = 0\n",
    "q0 = np.array([np.sin(theta0)*np.cos(phi0),np.sin(theta0)*np.sin(phi0),np.cos(theta0)])\n",
    "qdot0 = np.array([0,0,0])"
   ]
  },
  {
   "cell_type": "code",
   "execution_count": 219,
   "metadata": {
    "collapsed": true
   },
   "outputs": [],
   "source": [
    "t = np.linspace(t0,tmax,n_points)\n",
    "q = np.zeros([t.shape[0],3])\n",
    "qdot = np.zeros([t.shape[0],3])\n",
    "qd = np.zeros([t.shape[0],3])\n",
    "qd_dot = np.zeros([t.shape[0],3])\n",
    "q[0,:] = q0\n",
    "qdot[0,:] = qdot0\n",
    "qd[0,:] = reference(t[0])\n",
    "qd_dot[0,:] = reference_velocity(t[0])"
   ]
  },
  {
   "cell_type": "code",
   "execution_count": 220,
   "metadata": {
    "collapsed": true
   },
   "outputs": [],
   "source": [
    "for i in range(1,t.size):\n",
    "    u_ff = feedforward_control_law(t[i-1],q[i-1,:],qdot[i-1,:])\n",
    "    u_fb = geometric_control_law(t[i-1],q[i-1,:],qdot[i-1,:],invariance)\n",
    "    u = u_ff+u_fb    \n",
    "    q[i,:],qdot[i,:] = second_order_rk4_step(t[i-1:i+1],q[i-1,:],qdot[i-1,:],u)\n",
    "    #if i == 1:\n",
    "    #    q[i,:],qdot[i,:] = leap_frog_step(t[i-1:i+1],q[i-1,:],qdot[i-1,:],u)\n",
    "    #else:\n",
    "    #    q[i,:],qdot[i,:] = leap_frog_step(t[i-1:i+1],q[i-2,:],qdot[i-2,:],u)        \n",
    "    #print(np.inner(u,q[i,:]))\n",
    "    qd[i,:] = reference(t[i])\n",
    "    qd_dot[i,:] = reference_velocity(t[i])"
   ]
  },
  {
   "cell_type": "code",
   "execution_count": 1,
   "metadata": {},
   "outputs": [
    {
     "ename": "NameError",
     "evalue": "name 'plt' is not defined",
     "output_type": "error",
     "traceback": [
      "\u001b[0;31m---------------------------------------------------------------------------\u001b[0m",
      "\u001b[0;31mNameError\u001b[0m                                 Traceback (most recent call last)",
      "\u001b[0;32m<ipython-input-1-172fb1904862>\u001b[0m in \u001b[0;36m<module>\u001b[0;34m()\u001b[0m\n\u001b[0;32m----> 1\u001b[0;31m \u001b[0mfig\u001b[0m \u001b[0;34m=\u001b[0m \u001b[0mplt\u001b[0m\u001b[0;34m.\u001b[0m\u001b[0mfigure\u001b[0m\u001b[0;34m(\u001b[0m\u001b[0;34m)\u001b[0m\u001b[0;34m\u001b[0m\u001b[0m\n\u001b[0m\u001b[1;32m      2\u001b[0m \u001b[0max\u001b[0m \u001b[0;34m=\u001b[0m \u001b[0mfig\u001b[0m\u001b[0;34m.\u001b[0m\u001b[0mgca\u001b[0m\u001b[0;34m(\u001b[0m\u001b[0mprojection\u001b[0m\u001b[0;34m=\u001b[0m\u001b[0;34m'3d'\u001b[0m\u001b[0;34m)\u001b[0m\u001b[0;34m\u001b[0m\u001b[0m\n\u001b[1;32m      3\u001b[0m \u001b[0max\u001b[0m\u001b[0;34m.\u001b[0m\u001b[0mplot\u001b[0m\u001b[0;34m(\u001b[0m\u001b[0mq\u001b[0m\u001b[0;34m[\u001b[0m\u001b[0;34m:\u001b[0m\u001b[0;34m,\u001b[0m\u001b[0;36m0\u001b[0m\u001b[0;34m]\u001b[0m\u001b[0;34m,\u001b[0m \u001b[0mq\u001b[0m\u001b[0;34m[\u001b[0m\u001b[0;34m:\u001b[0m\u001b[0;34m,\u001b[0m\u001b[0;36m1\u001b[0m\u001b[0;34m]\u001b[0m\u001b[0;34m,\u001b[0m \u001b[0mq\u001b[0m\u001b[0;34m[\u001b[0m\u001b[0;34m:\u001b[0m\u001b[0;34m,\u001b[0m\u001b[0;36m2\u001b[0m\u001b[0;34m]\u001b[0m\u001b[0;34m)\u001b[0m\u001b[0;34m\u001b[0m\u001b[0m\n\u001b[1;32m      4\u001b[0m \u001b[0max\u001b[0m\u001b[0;34m.\u001b[0m\u001b[0mplot\u001b[0m\u001b[0;34m(\u001b[0m\u001b[0mqd\u001b[0m\u001b[0;34m[\u001b[0m\u001b[0;34m:\u001b[0m\u001b[0;34m,\u001b[0m\u001b[0;36m0\u001b[0m\u001b[0;34m]\u001b[0m\u001b[0;34m,\u001b[0m \u001b[0mqd\u001b[0m\u001b[0;34m[\u001b[0m\u001b[0;34m:\u001b[0m\u001b[0;34m,\u001b[0m\u001b[0;36m1\u001b[0m\u001b[0;34m]\u001b[0m\u001b[0;34m,\u001b[0m \u001b[0mqd\u001b[0m\u001b[0;34m[\u001b[0m\u001b[0;34m:\u001b[0m\u001b[0;34m,\u001b[0m\u001b[0;36m2\u001b[0m\u001b[0;34m]\u001b[0m\u001b[0;34m)\u001b[0m\u001b[0;34m\u001b[0m\u001b[0m\n\u001b[1;32m      5\u001b[0m \u001b[0mplt\u001b[0m\u001b[0;34m.\u001b[0m\u001b[0msavefig\u001b[0m\u001b[0;34m(\u001b[0m\u001b[0;34m\"first_trajectory.pdf\"\u001b[0m\u001b[0;34m)\u001b[0m\u001b[0;34m\u001b[0m\u001b[0m\n",
      "\u001b[0;31mNameError\u001b[0m: name 'plt' is not defined"
     ]
    }
   ],
   "source": [
    "fig = plt.figure()\n",
    "ax = fig.gca(projection='3d')\n",
    "ax.plot(q[:,0], q[:,1], q[:,2])\n",
    "ax.plot(qd[:,0], qd[:,1], qd[:,2])\n",
    "plt.savefig(\"first_trajectory.pdf\")\n",
    "plt.close()"
   ]
  },
  {
   "cell_type": "code",
   "execution_count": 30,
   "metadata": {},
   "outputs": [
    {
     "data": {
      "text/plain": [
       "-0.24663230996883403"
      ]
     },
     "execution_count": 30,
     "metadata": {},
     "output_type": "execute_result"
    }
   ],
   "source": [
    "np.cos(theta0)"
   ]
  },
  {
   "cell_type": "code",
   "execution_count": 223,
   "metadata": {},
   "outputs": [
    {
     "data": {
      "text/plain": [
       "896"
      ]
     },
     "execution_count": 223,
     "metadata": {},
     "output_type": "execute_result"
    }
   ],
   "source": [
    "np.count_nonzero(safety_constraints(0,q,invariance,0)<0)"
   ]
  },
  {
   "cell_type": "code",
   "execution_count": 32,
   "metadata": {},
   "outputs": [
    {
     "data": {
      "text/plain": [
       "-1.0"
      ]
     },
     "execution_count": 32,
     "metadata": {},
     "output_type": "execute_result"
    }
   ],
   "source": [
    "np.cos(np.pi)"
   ]
  }
 ],
 "metadata": {
  "kernelspec": {
   "display_name": "Python 3",
   "language": "python",
   "name": "python3"
  },
  "language_info": {
   "codemirror_mode": {
    "name": "ipython",
    "version": 3
   },
   "file_extension": ".py",
   "mimetype": "text/x-python",
   "name": "python",
   "nbconvert_exporter": "python",
   "pygments_lexer": "ipython3",
   "version": "3.5.2"
  }
 },
 "nbformat": 4,
 "nbformat_minor": 2
}
