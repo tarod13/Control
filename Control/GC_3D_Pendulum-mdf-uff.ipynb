{
 "cells": [
  {
   "cell_type": "code",
   "execution_count": 55,
   "metadata": {
    "collapsed": true
   },
   "outputs": [],
   "source": [
    "import numpy as np\n",
    "import matplotlib.pylab as plt\n",
    "import quadprog as QP\n",
    "import mpl_toolkits.mplot3d.axes3d as p3\n",
    "import matplotlib.animation as ani"
   ]
  },
  {
   "cell_type": "code",
   "execution_count": 79,
   "metadata": {
    "collapsed": true
   },
   "outputs": [],
   "source": [
    "def init():  \n",
    "    z.set_data(q[0,:2])\n",
    "    z.set_3d_properties(q[0,2], 'z') \n",
    "    zz.set_data(qd[0,:2])\n",
    "    z.set_3d_properties(qd[0,2], 'z') \n",
    "    return([z,zz]) "
   ]
  },
  {
   "cell_type": "code",
   "execution_count": 2,
   "metadata": {
    "collapsed": true
   },
   "outputs": [],
   "source": [
    "def animate(t):      \n",
    "    z.set_data(q[:t,0:2])\n",
    "    z.set_3d_properties(q[:t,2], 'z') \n",
    "    zz.set_data(qd[:t,0:2])\n",
    "    zz.set_3d_properties(qd[:t,2], 'z') \n",
    "    return([z,zz]) "
   ]
  },
  {
   "cell_type": "code",
   "execution_count": 3,
   "metadata": {
    "collapsed": true
   },
   "outputs": [],
   "source": [
    "def hat_map(x):   \n",
    "    return np.array([[0,-x[2],x[1]],[x[2],0,-x[0]],[-x[1],x[0],0]])"
   ]
  },
  {
   "cell_type": "code",
   "execution_count": 4,
   "metadata": {
    "collapsed": true
   },
   "outputs": [],
   "source": [
    "def position_dynamics(tau,x,xdot,v):\n",
    "    return(xdot)"
   ]
  },
  {
   "cell_type": "code",
   "execution_count": 5,
   "metadata": {
    "collapsed": true
   },
   "outputs": [],
   "source": [
    "def velocity_dynamics(tau,x,xdot,v):\n",
    "    v_perp = v - np.inner(x,v)*x\n",
    "    return(-np.inner(xdot,xdot)*x+v_perp)"
   ]
  },
  {
   "cell_type": "code",
   "execution_count": 59,
   "metadata": {
    "collapsed": true
   },
   "outputs": [],
   "source": [
    "def reference(tau):\n",
    "    ref_theta = 5*np.pi/9\n",
    "    ref_phi = 0.25*tau\n",
    "    return(np.array([np.sin(ref_theta)*np.cos(ref_phi),np.sin(ref_theta)*np.sin(ref_phi),np.cos(ref_theta)]))"
   ]
  },
  {
   "cell_type": "code",
   "execution_count": 60,
   "metadata": {
    "collapsed": true
   },
   "outputs": [],
   "source": [
    "def reference_velocity(tau):\n",
    "    ref_theta = 5*np.pi/9\n",
    "    ref_phi = 0.25*tau\n",
    "    return(np.array([-0.25*np.sin(ref_theta)*np.sin(ref_phi),0.25*np.sin(ref_theta)*np.cos(ref_phi),0]))"
   ]
  },
  {
   "cell_type": "code",
   "execution_count": 61,
   "metadata": {
    "collapsed": true
   },
   "outputs": [],
   "source": [
    "def reference_acceleration(tau):\n",
    "    ref_theta = 5*np.pi/9\n",
    "    ref_phi = 0.25*tau\n",
    "    return(np.array([-0.25**2*np.sin(ref_theta)*np.cos(ref_phi),-0.25**2*np.sin(ref_theta)*np.sin(ref_phi),0]))"
   ]
  },
  {
   "cell_type": "code",
   "execution_count": 9,
   "metadata": {
    "collapsed": true
   },
   "outputs": [],
   "source": [
    "def safety_center(tau,invariant):\n",
    "    if invariant == 1:\n",
    "        return(np.array([0,0,-1]))\n",
    "    else:\n",
    "        ref_theta = 4*np.pi/5\n",
    "        ref_phi = 0.25*tau\n",
    "        return(np.array([np.sin(ref_theta)*np.cos(ref_phi),np.sin(ref_theta)*np.sin(ref_phi),np.cos(ref_theta)]))"
   ]
  },
  {
   "cell_type": "code",
   "execution_count": 58,
   "metadata": {
    "collapsed": true
   },
   "outputs": [],
   "source": [
    "def safety_center_velocity(tau,invariant):  \n",
    "    if invariant == 1:\n",
    "        return(np.array([0,0,0]))\n",
    "    else:\n",
    "        ref_theta = 4*np.pi/5\n",
    "        ref_phi = 0.25*tau\n",
    "        return(np.array([-0.25*np.sin(ref_theta)*np.sin(ref_phi),0.25*np.sin(ref_theta)*np.cos(ref_phi),0]))"
   ]
  },
  {
   "cell_type": "code",
   "execution_count": 11,
   "metadata": {
    "collapsed": true
   },
   "outputs": [],
   "source": [
    "def safety_center_acceleration(tau,invariant):  \n",
    "    if invariant == 1:\n",
    "        return(np.array([0,0,0]))\n",
    "    else:\n",
    "        ref_theta = 4*np.pi/5\n",
    "        ref_phi = 0.25*tau\n",
    "        return(np.array([-0.25**2*np.sin(ref_theta)*np.cos(ref_phi),-0.25**2*np.sin(ref_theta)*np.sin(ref_phi),np.cos(ref_theta)]))"
   ]
  },
  {
   "cell_type": "code",
   "execution_count": 31,
   "metadata": {
    "collapsed": true
   },
   "outputs": [],
   "source": [
    "def position_error(tau,x):    \n",
    "    return(np.dot(hat_map(x)**2,reference(tau)))"
   ]
  },
  {
   "cell_type": "code",
   "execution_count": 32,
   "metadata": {
    "collapsed": true
   },
   "outputs": [],
   "source": [
    "def velocity_error(tau,x,xdot):    \n",
    "    return(xdot-np.cross(np.cross(reference(tau),reference_velocity(tau)),x))"
   ]
  },
  {
   "cell_type": "code",
   "execution_count": 13,
   "metadata": {
    "collapsed": true
   },
   "outputs": [],
   "source": [
    "def safety_constraints(tau,x,invariant,i):\n",
    "    if i == 0:\n",
    "        g = np.cos(np.pi/12)-1+np.inner(x,safety_center(tau,invariant))\n",
    "    else:\n",
    "        if i == 1:\n",
    "            g = -(np.cos(np.pi/4)-1+np.inner(x,safety_center(tau,invariant)))\n",
    "    return(g)"
   ]
  },
  {
   "cell_type": "code",
   "execution_count": 14,
   "metadata": {
    "collapsed": true
   },
   "outputs": [],
   "source": [
    "def CLF(tau,x,xdot):\n",
    "    V1 = 0.5*np.inner(velocity_error(tau,x,xdot),velocity_error(tau,x,xdot))\n",
    "    V2 = 0.5*alpha*(1-np.inner(x,reference(tau)))\n",
    "    V3 = epsilon*np.inner(position_error(tau,x),velocity_error(tau,x,xdot))\n",
    "    return(V1+V2+V3)"
   ]
  },
  {
   "cell_type": "code",
   "execution_count": 35,
   "metadata": {
    "collapsed": true
   },
   "outputs": [],
   "source": [
    "def h_function(tau,x,xdot,i,invariant):\n",
    "    return(gamma[i]*safety_constraints(tau,x,invariant,i) + \n",
    "          ((-1)**i)*(np.inner(safety_center(tau,invariant),xdot)+np.inner(safety_center_velocity(tau,invariant),x)))"
   ]
  },
  {
   "cell_type": "code",
   "execution_count": 17,
   "metadata": {
    "collapsed": true
   },
   "outputs": [],
   "source": [
    "def CBF(tau,x,xdot,i,invariant):     \n",
    "    return(1/h_function(tau,x,xdot,i,invariant))"
   ]
  },
  {
   "cell_type": "code",
   "execution_count": 20,
   "metadata": {
    "collapsed": true
   },
   "outputs": [],
   "source": [
    "def feedforward_control_law(tau,x,xdot):\n",
    "    u1 = np.cross(np.cross(reference(tau),reference_acceleration(tau)),x)    \n",
    "    u2 = -np.dot(hat_map(x)**2,np.cross((np.cross(reference(tau),reference_velocity(tau))),xdot).T).T\n",
    "    return(u1+u2)"
   ]
  },
  {
   "cell_type": "code",
   "execution_count": 21,
   "metadata": {
    "collapsed": true
   },
   "outputs": [],
   "source": [
    "def phi_0(tau,i,invariant):    \n",
    "    return((-1)**i*safety_center(tau,invariant))"
   ]
  },
  {
   "cell_type": "code",
   "execution_count": 22,
   "metadata": {
    "collapsed": true
   },
   "outputs": [],
   "source": [
    "def phi_1(tau,x,xdot,i,invariant):    \n",
    "    p1 = gamma[i]*(h_function(tau,x,xdot,i,invariant)-gamma[i]*safety_constraints(tau,x,invariant,i))\n",
    "    p2 = (-1)**i*(2*np.inner(xdot,safety_center_velocity(tau,invariant))+\n",
    "                    np.inner(x,safety_center_acceleration(tau,invariant))-\n",
    "                    np.inner(xdot,xdot)*np.inner(safety_center(tau,invariant),x))\n",
    "    return(p1+p2)"
   ]
  },
  {
   "cell_type": "code",
   "execution_count": 23,
   "metadata": {
    "collapsed": true
   },
   "outputs": [],
   "source": [
    "def psi_0(tau,x,xdot):\n",
    "    return(velocity_error(tau,x,xdot) + epsilon*position_error(tau,x))"
   ]
  },
  {
   "cell_type": "code",
   "execution_count": 24,
   "metadata": {
    "collapsed": true
   },
   "outputs": [],
   "source": [
    "def psi_1(tau,x,xdot):\n",
    "    p11 = np.cross(np.cross(reference(tau),reference_acceleration(tau)),x)\n",
    "    p12 = np.cross((np.cross(reference(tau),reference_velocity(tau))),xdot)\n",
    "    p13 = np.inner(xdot,xdot)*x\n",
    "    P1 = -np.inner(psi_0(tau,x,xdot),p11+p12+p13)\n",
    "    P2 = -0.5*alpha*(np.inner(xdot,reference(tau))+np.inner(x,reference_velocity(tau)))\n",
    "    p31 = np.cross(xdot,(np.cross(x,reference(tau))))\n",
    "    p32 = np.cross(x,(np.cross(xdot,reference(tau))+np.cross(x,reference_velocity(tau))))\n",
    "    P3 = np.inner(epsilon*velocity_error(tau,x,xdot),p31+p32)    \n",
    "    return(P1+P2+P3)"
   ]
  },
  {
   "cell_type": "code",
   "execution_count": 40,
   "metadata": {
    "collapsed": true
   },
   "outputs": [],
   "source": [
    "def second_order_rk4_step(tau,x0,xdot0,v):    \n",
    "    h = tau[1]-tau[0]    \n",
    "    k11 = h*position_dynamics(tau[0],x0,xdot0,v)\n",
    "    k12 = h*velocity_dynamics(tau[0],x0,xdot0,v)\n",
    "    k21 = h*position_dynamics(tau[0]+h/2,x0+k11/2,xdot0+k12/2,v)\n",
    "    k22 = h*velocity_dynamics(tau[0]+h/2,x0+k11/2,xdot0+k12/2,v)\n",
    "    k31 = h*position_dynamics(tau[0]+h/2,x0+k21/2,xdot0+k22/2,v)\n",
    "    k32 = h*velocity_dynamics(tau[0]+h/2,x0+k21/2,xdot0+k22/2,v)\n",
    "    k41 = h*position_dynamics(tau[0]+h,x0+k31,xdot0+k32,v)\n",
    "    k42 = h*velocity_dynamics(tau[0]+h,x0+k31,xdot0+k32,v)\n",
    "    x = x0 + (k11+2*k21+2*k31+k41)/6   \n",
    "    x = x/np.linalg.norm(x)\n",
    "    xdot = xdot0 + (k12+2*k22+2*k32+k42)/6\n",
    "    xdot = xdot - np.inner(x,xdot)*x\n",
    "    return(x,xdot)"
   ]
  },
  {
   "cell_type": "code",
   "execution_count": 26,
   "metadata": {
    "collapsed": true
   },
   "outputs": [],
   "source": [
    "def leap_frog_step(tau,x0,xdot0,v):    \n",
    "    dt = tau[1]-tau[0]\n",
    "    if tau[0] == 0:\n",
    "        x = x0 + dt*xdot0\n",
    "        xdot = xdot0 + dt*velocity_dynamics(tau,x0,xdot0,v)\n",
    "    else:\n",
    "        x = x0 + 2*dt*xdot0\n",
    "        xdot = xdot0 + 2*dt*velocity_dynamics(tau,x0,xdot0,v)\n",
    "    x = x/np.linalg.norm(x)\n",
    "    xdot = xdot - np.inner(x,xdot)*x\n",
    "    return(x,xdot)"
   ]
  },
  {
   "cell_type": "code",
   "execution_count": 27,
   "metadata": {
    "collapsed": true
   },
   "outputs": [],
   "source": [
    "def euler_step(tau,x0,xdot0,v):    \n",
    "    dt = tau[1]-tau[0]    \n",
    "    x = x0 + dt*xdot0\n",
    "    xdot = xdot0 + dt*velocity_dynamics(tau,x0,xdot0,v)    \n",
    "    return(x,xdot)"
   ]
  },
  {
   "cell_type": "code",
   "execution_count": 28,
   "metadata": {
    "collapsed": true
   },
   "outputs": [],
   "source": [
    "def geometric_control_law(tau,x,xdot,invariant):\n",
    "    G = np.concatenate((np.concatenate((H,np.zeros([3,1])),axis=1),np.array([np.array([0,0,0,Lambda])])),axis=0)\n",
    "    a = np.zeros([4,])     \n",
    "    c0 = np.concatenate((np.array([x]).T,np.zeros([1,1])),axis=0)\n",
    "    c1 = np.concatenate((np.array([-psi_0(tau,x,xdot)]).T,np.ones([1,1])),axis=0)    \n",
    "    c2 = np.concatenate((np.array([phi_0(tau,0,invariant)]).T,np.zeros([1,1])),axis=0)\n",
    "    c3 = np.concatenate((np.array([phi_0(tau,1,invariant)]).T,np.zeros([1,1])),axis=0)\n",
    "    C = np.concatenate((c0,c1,c2,c3),axis=1)\n",
    "    u_ff = feedforward_control_law(tau,x,xdot)\n",
    "    b0 = -np.inner(x,u_ff)\n",
    "    b1 = np.inner(psi_0(tau,x,xdot),u_ff)+psi_1(tau,x,xdot)+eta*CLF(tau,x,xdot)    \n",
    "    b2 = -(np.inner(phi_0(tau,0,invariant),u_ff)+phi_1(tau,x,xdot,0,invariant)+mu[0]*(h_function(tau,x,xdot,0,invariant))**3)\n",
    "    b3 = -(np.inner(phi_0(tau,1,invariant),u_ff)+phi_1(tau,x,xdot,1,invariant)+mu[1]*(h_function(tau,x,xdot,1,invariant))**3)\n",
    "    b = np.array([np.asscalar(b0),np.asscalar(b1),np.asscalar(b2),np.asscalar(b3)])    \n",
    "    v,f,vu,iterations,lagrangian,iact = QP.solve_qp(G,a,C,b,1)\n",
    "    v = np.array(v[0:3])\n",
    "    return(v)"
   ]
  },
  {
   "cell_type": "code",
   "execution_count": 49,
   "metadata": {
    "collapsed": true
   },
   "outputs": [],
   "source": [
    "t0 = 0\n",
    "tmax = 40\n",
    "n_points = np.round(tmax-t0)*800\n",
    "alpha = 1\n",
    "epsilon = 1\n",
    "gamma = [1,10]\n",
    "\n",
    "H = np.array([[1, 0, 0],[0, 1, 0],[0,0,1]])\n",
    "Lambda = 1\n",
    "eta = 10\n",
    "mu = 1*[1,1]\n",
    "invariance = 1"
   ]
  },
  {
   "cell_type": "code",
   "execution_count": 50,
   "metadata": {
    "collapsed": true
   },
   "outputs": [],
   "source": [
    "theta0 = 1.78 \n",
    "phi0 = 0\n",
    "q0 = np.array([np.sin(theta0)*np.cos(phi0),np.sin(theta0)*np.sin(phi0),np.cos(theta0)])\n",
    "q0 = q0/np.linalg.norm(q0)\n",
    "qdot0 = np.array([0,0,0])"
   ]
  },
  {
   "cell_type": "code",
   "execution_count": 51,
   "metadata": {
    "collapsed": true
   },
   "outputs": [],
   "source": [
    "t = np.linspace(t0,tmax,n_points)\n",
    "q = np.zeros([t.shape[0],3])\n",
    "qdot = np.zeros([t.shape[0],3])\n",
    "qd = np.zeros([t.shape[0],3])\n",
    "qd_dot = np.zeros([t.shape[0],3])\n",
    "g0 = np.zeros([t.shape[0],3])\n",
    "g1 = np.zeros([t.shape[0],3])\n",
    "h0 = np.zeros([t.shape[0],3])\n",
    "h1 = np.zeros([t.shape[0],3])\n",
    "V = np.zeros([t.shape[0],3])\n",
    "q[0,:] = q0\n",
    "qdot[0,:] = qdot0\n",
    "qd[0,:] = reference(t[0])\n",
    "qd_dot[0,:] = reference_velocity(t[0])\n",
    "V[0] = CLF(0,q0,qdot0)\n",
    "g0[0] = safety_constraints(0,q0,invariance,0)\n",
    "g1[0] = safety_constraints(0,q0,invariance,1)\n",
    "h0[0] = h_function(0,q0,qdot0,0,invariance)\n",
    "h1[0] = h_function(0,q0,qdot0,1,invariance)"
   ]
  },
  {
   "cell_type": "code",
   "execution_count": 52,
   "metadata": {
    "collapsed": true
   },
   "outputs": [],
   "source": [
    "for i in range(1,t.size):\n",
    "    u_ff = feedforward_control_law(t[i-1],q[i-1,:],qdot[i-1,:])\n",
    "    u_fb = geometric_control_law(t[i-1],q[i-1,:],qdot[i-1,:],invariance)\n",
    "    u = u_ff+u_fb    \n",
    "    q[i,:],qdot[i,:] = euler_step(t[i-1:i+1],q[i-1,:],qdot[i-1,:],u)    \n",
    "    qd[i,:] = reference(t[i])\n",
    "    qd_dot[i,:] = reference_velocity(t[i])\n",
    "    \n",
    "    V[i] = CLF(i,q[i,:],qdot[i,:])\n",
    "    g0[i] = safety_constraints(i,q[i,:],invariance,0)\n",
    "    g1[i] = safety_constraints(i,q[i,:],invariance,1)\n",
    "    h0[i] = h_function(i,q[i,:],qdot[i,:],0,invariance)\n",
    "    h1[i] = h_function(i,q[i,:],qdot[i,:],1,invariance)"
   ]
  },
  {
   "cell_type": "code",
   "execution_count": 54,
   "metadata": {},
   "outputs": [
    {
     "name": "stderr",
     "output_type": "stream",
     "text": [
      "/usr/lib/python3/dist-packages/mpl_toolkits/mplot3d/axes3d.py:120: MatplotlibDeprecationWarning: The axesPatch function was deprecated in version 2.1. Use Axes.patch instead.\n",
      "  self.axesPatch.set_linewidth(0)\n",
      "/usr/lib/python3/dist-packages/mpl_toolkits/mplot3d/axes3d.py:1528: MatplotlibDeprecationWarning: The is_scalar function was deprecated in version 2.1.\n",
      "  if len(args[0]) == 0 or cbook.is_scalar(args[0][0]) :\n",
      "/usr/lib/python3/dist-packages/mpl_toolkits/mplot3d/axes3d.py:247: MatplotlibDeprecationWarning: The axesPatch function was deprecated in version 2.1. Use Axes.patch instead.\n",
      "  self.axesPatch.draw(renderer)\n"
     ]
    }
   ],
   "source": [
    "fig = plt.figure()\n",
    "ax = p3.Axes3D(fig)\n",
    "ax.plot(q[:,0], q[:,1], q[:,2])\n",
    "ax.plot(qd[:,0], qd[:,1], qd[:,2])\n",
    "plt.savefig(\"first_trajectory.pdf\")\n",
    "plt.close()"
   ]
  },
  {
   "cell_type": "code",
   "execution_count": 207,
   "metadata": {},
   "outputs": [
    {
     "name": "stdout",
     "output_type": "stream",
     "text": [
      "[-0.09018386  0.26209199 -0.00239718]\n"
     ]
    }
   ],
   "source": [
    "print(qdot[-1,:])"
   ]
  },
  {
   "cell_type": "code",
   "execution_count": 53,
   "metadata": {},
   "outputs": [
    {
     "name": "stdout",
     "output_type": "stream",
     "text": [
      "0\n",
      "0\n",
      "4200\n",
      "96000\n",
      "96000\n"
     ]
    }
   ],
   "source": [
    "print(np.count_nonzero(g0<0))\n",
    "print(np.count_nonzero(g1<0))\n",
    "print(np.count_nonzero(V<0))\n",
    "print(np.count_nonzero(h0>0))\n",
    "print(np.count_nonzero(h1>0))"
   ]
  },
  {
   "cell_type": "code",
   "execution_count": 78,
   "metadata": {},
   "outputs": [
    {
     "name": "stderr",
     "output_type": "stream",
     "text": [
      "/usr/lib/python3/dist-packages/mpl_toolkits/mplot3d/axes3d.py:120: MatplotlibDeprecationWarning: The axesPatch function was deprecated in version 2.1. Use Axes.patch instead.\n",
      "  self.axesPatch.set_linewidth(0)\n",
      "/usr/lib/python3/dist-packages/mpl_toolkits/mplot3d/axes3d.py:247: MatplotlibDeprecationWarning: The axesPatch function was deprecated in version 2.1. Use Axes.patch instead.\n",
      "  self.axesPatch.draw(renderer)\n"
     ]
    },
    {
     "name": "stdout",
     "output_type": "stream",
     "text": [
      "Guardando animacion.. (Puede tardar un par de minutos)\n"
     ]
    },
    {
     "name": "stderr",
     "output_type": "stream",
     "text": [
      "/usr/local/lib/python3.5/dist-packages/matplotlib/animation.py:1218: UserWarning: MovieWriter ffmpeg unavailable\n",
      "  warnings.warn(\"MovieWriter %s unavailable\" % writer)\n"
     ]
    },
    {
     "ename": "ValueError",
     "evalue": "not enough values to unpack (expected 2, got 0)",
     "output_type": "error",
     "traceback": [
      "\u001b[0;31m---------------------------------------------------------------------------\u001b[0m",
      "\u001b[0;31mValueError\u001b[0m                                Traceback (most recent call last)",
      "\u001b[0;32m<ipython-input-78-78796ccc9af7>\u001b[0m in \u001b[0;36m<module>\u001b[0;34m()\u001b[0m\n\u001b[1;32m     18\u001b[0m                                frames=q.shape[0]-10, interval=75, blit=True)\n\u001b[1;32m     19\u001b[0m \u001b[0mprint\u001b[0m\u001b[0;34m(\u001b[0m\u001b[0;34m\"Guardando animacion.. (Puede tardar un par de minutos)\"\u001b[0m\u001b[0;34m)\u001b[0m\u001b[0;34m\u001b[0m\u001b[0m\n\u001b[0;32m---> 20\u001b[0;31m \u001b[0mpendulum_animation\u001b[0m\u001b[0;34m.\u001b[0m\u001b[0msave\u001b[0m\u001b[0;34m(\u001b[0m\u001b[0;34m'3D-P.mp4'\u001b[0m\u001b[0;34m)\u001b[0m\u001b[0;34m\u001b[0m\u001b[0m\n\u001b[0m\u001b[1;32m     21\u001b[0m \u001b[0mplt\u001b[0m\u001b[0;34m.\u001b[0m\u001b[0mclose\u001b[0m\u001b[0;34m(\u001b[0m\u001b[0;34m)\u001b[0m\u001b[0;34m\u001b[0m\u001b[0m\n\u001b[1;32m     22\u001b[0m \u001b[0mprint\u001b[0m\u001b[0;34m(\u001b[0m\u001b[0;34m\"Proceso terminado\"\u001b[0m\u001b[0;34m)\u001b[0m\u001b[0;34m\u001b[0m\u001b[0m\n",
      "\u001b[0;32m/usr/local/lib/python3.5/dist-packages/matplotlib/animation.py\u001b[0m in \u001b[0;36msave\u001b[0;34m(self, filename, writer, fps, dpi, codec, bitrate, extra_args, metadata, extra_anim, savefig_kwargs)\u001b[0m\n\u001b[1;32m   1257\u001b[0m                     \u001b[0;32mfor\u001b[0m \u001b[0manim\u001b[0m\u001b[0;34m,\u001b[0m \u001b[0md\u001b[0m \u001b[0;32min\u001b[0m \u001b[0mzip\u001b[0m\u001b[0;34m(\u001b[0m\u001b[0mall_anim\u001b[0m\u001b[0;34m,\u001b[0m \u001b[0mdata\u001b[0m\u001b[0;34m)\u001b[0m\u001b[0;34m:\u001b[0m\u001b[0;34m\u001b[0m\u001b[0m\n\u001b[1;32m   1258\u001b[0m                         \u001b[0;31m# TODO: See if turning off blit is really necessary\u001b[0m\u001b[0;34m\u001b[0m\u001b[0;34m\u001b[0m\u001b[0m\n\u001b[0;32m-> 1259\u001b[0;31m                         \u001b[0manim\u001b[0m\u001b[0;34m.\u001b[0m\u001b[0m_draw_next_frame\u001b[0m\u001b[0;34m(\u001b[0m\u001b[0md\u001b[0m\u001b[0;34m,\u001b[0m \u001b[0mblit\u001b[0m\u001b[0;34m=\u001b[0m\u001b[0;32mFalse\u001b[0m\u001b[0;34m)\u001b[0m\u001b[0;34m\u001b[0m\u001b[0m\n\u001b[0m\u001b[1;32m   1260\u001b[0m                     \u001b[0mwriter\u001b[0m\u001b[0;34m.\u001b[0m\u001b[0mgrab_frame\u001b[0m\u001b[0;34m(\u001b[0m\u001b[0;34m**\u001b[0m\u001b[0msavefig_kwargs\u001b[0m\u001b[0;34m)\u001b[0m\u001b[0;34m\u001b[0m\u001b[0m\n\u001b[1;32m   1261\u001b[0m \u001b[0;34m\u001b[0m\u001b[0m\n",
      "\u001b[0;32m/usr/local/lib/python3.5/dist-packages/matplotlib/animation.py\u001b[0m in \u001b[0;36m_draw_next_frame\u001b[0;34m(self, framedata, blit)\u001b[0m\n\u001b[1;32m   1294\u001b[0m         \u001b[0;31m# post- draw, as well as the drawing of the frame itself.\u001b[0m\u001b[0;34m\u001b[0m\u001b[0;34m\u001b[0m\u001b[0m\n\u001b[1;32m   1295\u001b[0m         \u001b[0mself\u001b[0m\u001b[0;34m.\u001b[0m\u001b[0m_pre_draw\u001b[0m\u001b[0;34m(\u001b[0m\u001b[0mframedata\u001b[0m\u001b[0;34m,\u001b[0m \u001b[0mblit\u001b[0m\u001b[0;34m)\u001b[0m\u001b[0;34m\u001b[0m\u001b[0m\n\u001b[0;32m-> 1296\u001b[0;31m         \u001b[0mself\u001b[0m\u001b[0;34m.\u001b[0m\u001b[0m_draw_frame\u001b[0m\u001b[0;34m(\u001b[0m\u001b[0mframedata\u001b[0m\u001b[0;34m)\u001b[0m\u001b[0;34m\u001b[0m\u001b[0m\n\u001b[0m\u001b[1;32m   1297\u001b[0m         \u001b[0mself\u001b[0m\u001b[0;34m.\u001b[0m\u001b[0m_post_draw\u001b[0m\u001b[0;34m(\u001b[0m\u001b[0mframedata\u001b[0m\u001b[0;34m,\u001b[0m \u001b[0mblit\u001b[0m\u001b[0;34m)\u001b[0m\u001b[0;34m\u001b[0m\u001b[0m\n\u001b[1;32m   1298\u001b[0m \u001b[0;34m\u001b[0m\u001b[0m\n",
      "\u001b[0;32m/usr/local/lib/python3.5/dist-packages/matplotlib/animation.py\u001b[0m in \u001b[0;36m_draw_frame\u001b[0;34m(self, framedata)\u001b[0m\n\u001b[1;32m   1812\u001b[0m         \u001b[0;31m# Call the func with framedata and args. If blitting is desired,\u001b[0m\u001b[0;34m\u001b[0m\u001b[0;34m\u001b[0m\u001b[0m\n\u001b[1;32m   1813\u001b[0m         \u001b[0;31m# func needs to return a sequence of any artists that were modified.\u001b[0m\u001b[0;34m\u001b[0m\u001b[0;34m\u001b[0m\u001b[0m\n\u001b[0;32m-> 1814\u001b[0;31m         \u001b[0mself\u001b[0m\u001b[0;34m.\u001b[0m\u001b[0m_drawn_artists\u001b[0m \u001b[0;34m=\u001b[0m \u001b[0mself\u001b[0m\u001b[0;34m.\u001b[0m\u001b[0m_func\u001b[0m\u001b[0;34m(\u001b[0m\u001b[0mframedata\u001b[0m\u001b[0;34m,\u001b[0m \u001b[0;34m*\u001b[0m\u001b[0mself\u001b[0m\u001b[0;34m.\u001b[0m\u001b[0m_args\u001b[0m\u001b[0;34m)\u001b[0m\u001b[0;34m\u001b[0m\u001b[0m\n\u001b[0m\u001b[1;32m   1815\u001b[0m         \u001b[0;32mif\u001b[0m \u001b[0mself\u001b[0m\u001b[0;34m.\u001b[0m\u001b[0m_blit\u001b[0m\u001b[0;34m:\u001b[0m\u001b[0;34m\u001b[0m\u001b[0m\n\u001b[1;32m   1816\u001b[0m             \u001b[0;32mif\u001b[0m \u001b[0mself\u001b[0m\u001b[0;34m.\u001b[0m\u001b[0m_drawn_artists\u001b[0m \u001b[0;32mis\u001b[0m \u001b[0;32mNone\u001b[0m\u001b[0;34m:\u001b[0m\u001b[0;34m\u001b[0m\u001b[0m\n",
      "\u001b[0;32m<ipython-input-74-e24f0314a0e1>\u001b[0m in \u001b[0;36manimate\u001b[0;34m(t)\u001b[0m\n\u001b[1;32m      1\u001b[0m \u001b[0;32mdef\u001b[0m \u001b[0manimate\u001b[0m\u001b[0;34m(\u001b[0m\u001b[0mt\u001b[0m\u001b[0;34m)\u001b[0m\u001b[0;34m:\u001b[0m\u001b[0;34m\u001b[0m\u001b[0m\n\u001b[0;32m----> 2\u001b[0;31m     \u001b[0mz\u001b[0m\u001b[0;34m.\u001b[0m\u001b[0mset_data\u001b[0m\u001b[0;34m(\u001b[0m\u001b[0mq\u001b[0m\u001b[0;34m[\u001b[0m\u001b[0;34m:\u001b[0m\u001b[0mt\u001b[0m\u001b[0;34m,\u001b[0m\u001b[0;36m0\u001b[0m\u001b[0;34m:\u001b[0m\u001b[0;36m2\u001b[0m\u001b[0;34m]\u001b[0m\u001b[0;34m)\u001b[0m\u001b[0;34m\u001b[0m\u001b[0m\n\u001b[0m\u001b[1;32m      3\u001b[0m     \u001b[0mz\u001b[0m\u001b[0;34m.\u001b[0m\u001b[0mset_3d_properties\u001b[0m\u001b[0;34m(\u001b[0m\u001b[0mq\u001b[0m\u001b[0;34m[\u001b[0m\u001b[0;34m:\u001b[0m\u001b[0mt\u001b[0m\u001b[0;34m,\u001b[0m\u001b[0;36m2\u001b[0m\u001b[0;34m]\u001b[0m\u001b[0;34m)\u001b[0m\u001b[0;34m\u001b[0m\u001b[0m\n\u001b[1;32m      4\u001b[0m     \u001b[0mzz\u001b[0m\u001b[0;34m.\u001b[0m\u001b[0mset_data\u001b[0m\u001b[0;34m(\u001b[0m\u001b[0mqd\u001b[0m\u001b[0;34m[\u001b[0m\u001b[0;34m:\u001b[0m\u001b[0mt\u001b[0m\u001b[0;34m,\u001b[0m\u001b[0;36m0\u001b[0m\u001b[0;34m:\u001b[0m\u001b[0;36m2\u001b[0m\u001b[0;34m]\u001b[0m\u001b[0;34m)\u001b[0m\u001b[0;34m\u001b[0m\u001b[0m\n\u001b[1;32m      5\u001b[0m     \u001b[0mzz\u001b[0m\u001b[0;34m.\u001b[0m\u001b[0mset_3d_properties\u001b[0m\u001b[0;34m(\u001b[0m\u001b[0mqd\u001b[0m\u001b[0;34m[\u001b[0m\u001b[0;34m:\u001b[0m\u001b[0mt\u001b[0m\u001b[0;34m,\u001b[0m\u001b[0;36m2\u001b[0m\u001b[0;34m]\u001b[0m\u001b[0;34m)\u001b[0m\u001b[0;34m\u001b[0m\u001b[0m\n",
      "\u001b[0;32m/usr/local/lib/python3.5/dist-packages/matplotlib/lines.py\u001b[0m in \u001b[0;36mset_data\u001b[0;34m(self, *args)\u001b[0m\n\u001b[1;32m    637\u001b[0m         \"\"\"\n\u001b[1;32m    638\u001b[0m         \u001b[0;32mif\u001b[0m \u001b[0mlen\u001b[0m\u001b[0;34m(\u001b[0m\u001b[0margs\u001b[0m\u001b[0;34m)\u001b[0m \u001b[0;34m==\u001b[0m \u001b[0;36m1\u001b[0m\u001b[0;34m:\u001b[0m\u001b[0;34m\u001b[0m\u001b[0m\n\u001b[0;32m--> 639\u001b[0;31m             \u001b[0mx\u001b[0m\u001b[0;34m,\u001b[0m \u001b[0my\u001b[0m \u001b[0;34m=\u001b[0m \u001b[0margs\u001b[0m\u001b[0;34m[\u001b[0m\u001b[0;36m0\u001b[0m\u001b[0;34m]\u001b[0m\u001b[0;34m\u001b[0m\u001b[0m\n\u001b[0m\u001b[1;32m    640\u001b[0m         \u001b[0;32melse\u001b[0m\u001b[0;34m:\u001b[0m\u001b[0;34m\u001b[0m\u001b[0m\n\u001b[1;32m    641\u001b[0m             \u001b[0mx\u001b[0m\u001b[0;34m,\u001b[0m \u001b[0my\u001b[0m \u001b[0;34m=\u001b[0m \u001b[0margs\u001b[0m\u001b[0;34m\u001b[0m\u001b[0m\n",
      "\u001b[0;31mValueError\u001b[0m: not enough values to unpack (expected 2, got 0)"
     ]
    }
   ],
   "source": [
    "fig2 = plt.figure()\n",
    "ax = p3.Axes3D(fig2)\n",
    "\n",
    "ax.set_xlim3d([-2, 2])\n",
    "ax2.set_xlabel(r'$x$', size = 9)\n",
    "\n",
    "ax.set_ylim3d([-2, 2])\n",
    "ax2.set_ylabel(r'$y$', size = 9)\n",
    "\n",
    "ax.set_zlim3d([-2, 2])\n",
    "ax2.set_zlabel(r'$z$', size = 9)\n",
    "\n",
    "ax2.set_title(r'Simulacion de pendulo 3D', size = 11)\n",
    "ax2.tick_params(labelsize = 9)\n",
    "z, = ax2.plot([], [], [])\n",
    "zz, = ax2.plot([], [], [])\n",
    "pendulum_animation = ani.FuncAnimation(fig2, animate, init_func=init,\n",
    "                               frames=q.shape[0]-10, interval=75, blit=True)\n",
    "print(\"Guardando animacion.. (Puede tardar un par de minutos)\")\n",
    "pendulum_animation.save('3D-P.mp4')\n",
    "plt.close()\n",
    "print(\"Proceso terminado\")"
   ]
  },
  {
   "cell_type": "code",
   "execution_count": null,
   "metadata": {
    "collapsed": true
   },
   "outputs": [],
   "source": []
  }
 ],
 "metadata": {
  "kernelspec": {
   "display_name": "Python 3",
   "language": "python",
   "name": "python3"
  },
  "language_info": {
   "codemirror_mode": {
    "name": "ipython",
    "version": 3
   },
   "file_extension": ".py",
   "mimetype": "text/x-python",
   "name": "python",
   "nbconvert_exporter": "python",
   "pygments_lexer": "ipython3",
   "version": "3.5.2"
  }
 },
 "nbformat": 4,
 "nbformat_minor": 2
}
