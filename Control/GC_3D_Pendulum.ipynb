{
 "cells": [
  {
   "cell_type": "code",
   "execution_count": 1,
   "metadata": {
    "collapsed": true
   },
   "outputs": [],
   "source": [
    "import numpy as np\n",
    "import matplotlib.pylab as plt\n",
    "import quadprog as QP\n",
    "import mpl_toolkits.mplot3d.axes3d as p3\n",
    "import matplotlib.animation as ani\n",
    "import matplotlib as mpl\n",
    "from cvxpy import *"
   ]
  },
  {
   "cell_type": "code",
   "execution_count": 2,
   "metadata": {
    "collapsed": true
   },
   "outputs": [],
   "source": [
    "def hat_map(x):   \n",
    "    return np.array([[0,-x[2],x[1]],[x[2],0,-x[0]],[-x[1],x[0],0]])"
   ]
  },
  {
   "cell_type": "code",
   "execution_count": 3,
   "metadata": {
    "collapsed": true
   },
   "outputs": [],
   "source": [
    "def position_dynamics(tau,x,xdot,v):\n",
    "    return(xdot)"
   ]
  },
  {
   "cell_type": "code",
   "execution_count": 65,
   "metadata": {
    "collapsed": true
   },
   "outputs": [],
   "source": [
    "def velocity_dynamics(tau,x,xdot,v):    \n",
    "    return(v)"
   ]
  },
  {
   "cell_type": "code",
   "execution_count": 120,
   "metadata": {
    "collapsed": true
   },
   "outputs": [],
   "source": [
    "def reference(tau):\n",
    "    w = 0.2\n",
    "    d = np.pi/12\n",
    "    ref_theta = 5*np.pi/9+d*np.sin(w*tau)\n",
    "    ref_phi = 0.2*tau\n",
    "    return(np.array([np.sin(ref_theta)*np.cos(ref_phi),np.sin(ref_theta)*np.sin(ref_phi),np.cos(ref_theta)]))"
   ]
  },
  {
   "cell_type": "code",
   "execution_count": 121,
   "metadata": {
    "collapsed": true
   },
   "outputs": [],
   "source": [
    "def reference_velocity(tau):\n",
    "    w = 0.2\n",
    "    d = np.pi/12\n",
    "    ref_theta = 5*np.pi/9+d*np.sin(w*tau)\n",
    "    ref_phi = 0.2*tau\n",
    "    v1 = np.array([-0.2*np.sin(ref_theta)*np.sin(ref_phi),0.2*np.sin(ref_theta)*np.cos(ref_phi),0])\n",
    "    v2 = np.array([w*np.cos(ref_theta)*np.cos(ref_phi)*np.cos(w*tau)*d,w*np.cos(ref_theta)*np.sin(ref_phi)*np.cos(w*tau)*d,-w*np.sin(ref_theta)*np.cos(w*tau)*d])\n",
    "    return(v1+v2)"
   ]
  },
  {
   "cell_type": "code",
   "execution_count": 122,
   "metadata": {
    "collapsed": true
   },
   "outputs": [],
   "source": [
    "def reference_acceleration(tau):\n",
    "    w = 0.2\n",
    "    d = np.pi/12\n",
    "    ref_theta = 5*np.pi/9+d*np.sin(w*tau)\n",
    "    ref_phi = 0.2*tau\n",
    "    a1 = np.array([-0.2**2*np.sin(ref_theta)*np.cos(ref_phi),-0.2**2*np.sin(ref_theta)*np.sin(ref_phi),0])\n",
    "    a2 = np.array([-0.2*w*np.cos(ref_theta)*np.sin(ref_phi)*np.cos(w*tau)*d,0.2*w*np.cos(ref_theta)*np.cos(ref_phi)*np.cos(w*tau)*d,0])\n",
    "    a3 = np.array([-0.2*w*np.cos(ref_theta)*np.sin(ref_phi)*np.cos(w*tau)*d,0.2*w*np.cos(ref_theta)*np.cos(ref_phi)*np.cos(w*tau)*d,0])\n",
    "    a4 = np.array([-np.sin(ref_theta)*np.cos(ref_phi)*(w*np.cos(w*tau)*d)**2,-np.sin(ref_theta)*np.sin(ref_phi)*((w*np.cos(w*tau)*d)**2),-np.cos(ref_theta)*(w*np.cos(w*tau)*d)**2])\n",
    "    a5 = np.array([-w**2*np.cos(ref_theta)*np.cos(ref_phi)*np.sin(w*tau)*d,-w**2*np.cos(ref_theta)*np.sin(ref_phi)*np.sin(w*tau)*d,w**2*np.sin(ref_theta)*np.sin(w*tau)*d])\n",
    "    return(a1+a2+a3+a4)"
   ]
  },
  {
   "cell_type": "code",
   "execution_count": 8,
   "metadata": {
    "collapsed": true
   },
   "outputs": [],
   "source": [
    "def safety_center(tau,invariant):\n",
    "    if invariant == 1:\n",
    "        return(np.array([0,0,-1]))\n",
    "    else:\n",
    "        ref_theta = 4*np.pi/5\n",
    "        ref_phi = 0.25*tau\n",
    "        return(np.array([np.sin(ref_theta)*np.cos(ref_phi),np.sin(ref_theta)*np.sin(ref_phi),np.cos(ref_theta)]))"
   ]
  },
  {
   "cell_type": "code",
   "execution_count": 9,
   "metadata": {
    "collapsed": true
   },
   "outputs": [],
   "source": [
    "def safety_center_velocity(tau,invariant):  \n",
    "    if invariant == 1:\n",
    "        return(np.array([0,0,0]))\n",
    "    else:\n",
    "        ref_theta = 4*np.pi/5\n",
    "        ref_phi = 0.25*tau\n",
    "        return(np.array([-0.25*np.sin(ref_theta)*np.sin(ref_phi),0.25*np.sin(ref_theta)*np.cos(ref_phi),0]))"
   ]
  },
  {
   "cell_type": "code",
   "execution_count": 10,
   "metadata": {
    "collapsed": true
   },
   "outputs": [],
   "source": [
    "def safety_center_acceleration(tau,invariant):  \n",
    "    if invariant == 1:\n",
    "        return(np.array([0,0,0]))\n",
    "    else:\n",
    "        ref_theta = 4*np.pi/5\n",
    "        ref_phi = 0.25*tau\n",
    "        return(np.array([-0.25**2*np.sin(ref_theta)*np.cos(ref_phi),-0.25**2*np.sin(ref_theta)*np.sin(ref_phi),0]))"
   ]
  },
  {
   "cell_type": "code",
   "execution_count": 11,
   "metadata": {
    "collapsed": true
   },
   "outputs": [],
   "source": [
    "def position_error(tau,x):    \n",
    "    return(np.dot(hat_map(x)**2,reference(tau)))"
   ]
  },
  {
   "cell_type": "code",
   "execution_count": 12,
   "metadata": {
    "collapsed": true
   },
   "outputs": [],
   "source": [
    "def velocity_error(tau,x,xdot):    \n",
    "    return(xdot-np.cross(np.cross(reference(tau),reference_velocity(tau)),x))"
   ]
  },
  {
   "cell_type": "code",
   "execution_count": 212,
   "metadata": {
    "collapsed": true
   },
   "outputs": [],
   "source": [
    "def safety_constraints(tau,x,invariant,i):\n",
    "    if i == 0:\n",
    "        g = np.cos(np.pi/12)-1+np.inner(x,safety_center(tau,invariant))\n",
    "    else:\n",
    "        if i == 1:\n",
    "            g = -(np.cos(np.pi/3)-1+np.inner(x,safety_center(tau,invariant)))\n",
    "    return(g)"
   ]
  },
  {
   "cell_type": "code",
   "execution_count": 82,
   "metadata": {
    "collapsed": true
   },
   "outputs": [],
   "source": [
    "def CLF(tau,x,xdot):\n",
    "    V1 = 0.5*np.dot(velocity_error(tau,x,xdot),velocity_error(tau,x,xdot))\n",
    "    V2 = 0.5*alpha*(1-np.dot(x,reference(tau)))\n",
    "    V3 = epsilon*np.dot(position_error(tau,x),velocity_error(tau,x,xdot))\n",
    "    return(V1+V2+V3)"
   ]
  },
  {
   "cell_type": "code",
   "execution_count": 15,
   "metadata": {
    "collapsed": true
   },
   "outputs": [],
   "source": [
    "def h_function(tau,x,xdot,i,invariant):\n",
    "    return(gamma[i]*safety_constraints(tau,x,invariant,i) + \n",
    "          ((-1)**i)*(np.inner(safety_center(tau,invariant),xdot)+np.inner(safety_center_velocity(tau,invariant),x)))"
   ]
  },
  {
   "cell_type": "code",
   "execution_count": 16,
   "metadata": {
    "collapsed": true
   },
   "outputs": [],
   "source": [
    "def feedforward_control_law(tau,x,xdot):\n",
    "    u1 = -np.cross(np.cross(reference(tau),reference_acceleration(tau)),x)    \n",
    "    u2 = np.dot(hat_map(x)**2,np.cross((np.cross(reference(tau),reference_velocity(tau))),xdot).T).T    \n",
    "    return(u1+u2)"
   ]
  },
  {
   "cell_type": "code",
   "execution_count": 17,
   "metadata": {
    "collapsed": true
   },
   "outputs": [],
   "source": [
    "def phi_0(tau,x,i,invariant):    \n",
    "    return(((-1)**i)*safety_center(tau,invariant))    "
   ]
  },
  {
   "cell_type": "code",
   "execution_count": 18,
   "metadata": {
    "collapsed": true
   },
   "outputs": [],
   "source": [
    "def phi_1(tau,x,xdot,i,invariant):    \n",
    "    p1 = gamma[i]*(h_function(tau,x,xdot,i,invariant)-gamma[i]*safety_constraints(tau,x,invariant,i))\n",
    "    p2 = (-1)**i*(2*np.inner(xdot,safety_center_velocity(tau,invariant))+\n",
    "                    np.inner(x,safety_center_acceleration(tau,invariant)))\n",
    "    return(p1+p2)"
   ]
  },
  {
   "cell_type": "code",
   "execution_count": 19,
   "metadata": {
    "collapsed": true
   },
   "outputs": [],
   "source": [
    "def psi_0(tau,x,xdot):\n",
    "    psi0 = velocity_error(tau,x,xdot) + epsilon*position_error(tau,x)\n",
    "    return(psi0)    "
   ]
  },
  {
   "cell_type": "code",
   "execution_count": 20,
   "metadata": {
    "collapsed": true
   },
   "outputs": [],
   "source": [
    "def psi_1(tau,x,xdot):\n",
    "    p11 = np.cross(np.cross(reference(tau),reference_acceleration(tau)),x)\n",
    "    p12 = np.cross((np.cross(reference(tau),reference_velocity(tau))),xdot)\n",
    "    P1 = -np.inner(psi_0(tau,x,xdot),p11+p12)\n",
    "    P2 = -0.5*alpha*(np.inner(xdot,reference(tau))+np.inner(x,reference_velocity(tau)))\n",
    "    p31 = np.cross(xdot,(np.cross(x,reference(tau))))\n",
    "    p32 = np.cross(x,(np.cross(xdot,reference(tau))+np.cross(x,reference_velocity(tau))))\n",
    "    P3 = np.inner(epsilon*velocity_error(tau,x,xdot),p31+p32)    \n",
    "    return(P1+P2+P3)"
   ]
  },
  {
   "cell_type": "code",
   "execution_count": 21,
   "metadata": {
    "collapsed": true
   },
   "outputs": [],
   "source": [
    "def second_order_rk4_step(tau,x0,xdot0,v):    \n",
    "    h = tau[1]-tau[0]\n",
    "    print()\n",
    "    k11 = h*position_dynamics(tau[0],x0,xdot0,v)\n",
    "    k12 = h*velocity_dynamics(tau[0],x0,xdot0,v)\n",
    "    k21 = h*position_dynamics(tau[0]+h/2,x0+k11/2,xdot0+k12/2,v)\n",
    "    k22 = h*velocity_dynamics(tau[0]+h/2,x0+k11/2,xdot0+k12/2,v)\n",
    "    k31 = h*position_dynamics(tau[0]+h/2,x0+k21/2,xdot0+k22/2,v)\n",
    "    k32 = h*velocity_dynamics(tau[0]+h/2,x0+k21/2,xdot0+k22/2,v)\n",
    "    k41 = h*position_dynamics(tau[0]+h,x0+k31,xdot0+k32,v)\n",
    "    k42 = h*velocity_dynamics(tau[0]+h,x0+k31,xdot0+k32,v)\n",
    "    x = x0 + (k11+2*k21+2*k31+k41)/6   \n",
    "    x = x/np.linalg.norm(x)\n",
    "    xdot = xdot0 + (k12+2*k22+2*k32+k42)/6\n",
    "    xdot = xdot - np.inner(x,xdot)*x\n",
    "    return(x,xdot)"
   ]
  },
  {
   "cell_type": "code",
   "execution_count": 22,
   "metadata": {
    "collapsed": true
   },
   "outputs": [],
   "source": [
    "def leap_frog_step(tau,x0,xdot0,v):    \n",
    "    dt = tau[1]-tau[0]\n",
    "    if tau[0] == 0:\n",
    "        x = x0 + dt*xdot0\n",
    "        xdot = xdot0 + dt*velocity_dynamics(tau,x0,xdot0,v)\n",
    "    else:\n",
    "        x = x0 + 2*dt*xdot0\n",
    "        xdot = xdot0 + 2*dt*velocity_dynamics(tau,x0,xdot0,v)\n",
    "    x = x/np.linalg.norm(x)\n",
    "    xdot = xdot - np.inner(x,xdot)*x\n",
    "    return(x,xdot)"
   ]
  },
  {
   "cell_type": "code",
   "execution_count": 23,
   "metadata": {
    "collapsed": true
   },
   "outputs": [],
   "source": [
    "def euler_step(tau,x0,xdot0,v):    \n",
    "    dt = tau[1]-tau[0]    \n",
    "    x = x0 + dt*xdot0\n",
    "    xdot = xdot0 + dt*velocity_dynamics(tau,x0,xdot0,v) \n",
    "    x = x/np.linalg.norm(x)\n",
    "    xdot = xdot - np.inner(x,xdot)*x\n",
    "    return(x,xdot)"
   ]
  },
  {
   "cell_type": "code",
   "execution_count": 213,
   "metadata": {
    "collapsed": true
   },
   "outputs": [],
   "source": [
    "def geometric_control_law_2(tau,x,xdot,invariant):\n",
    "    u_ff = feedforward_control_law(tau,x,xdot)\n",
    "    v = Variable(3)\n",
    "    delta = Variable(1)    \n",
    "    constraints = [psi_0(tau,x,xdot)*v + np.inner(psi_0(tau,x,xdot),u_ff)+psi_1(tau,x,xdot)+eta*CLF(tau,x,xdot) <= delta,\n",
    "                  x*v  + np.inner(x,u_ff) == 0]\n",
    "    hard_constraints = [-(phi_0(tau,x,0,invariant)*v + np.dot(phi_0(tau,x,0,invariant),u_ff)+phi_1(tau,x,xdot,0,invariant)+\n",
    "                     mu[0]*(h_function(tau,x,xdot,0,invariant))**3) <= 0,\n",
    "                     -(phi_0(tau,x,1,invariant)*v + np.dot(phi_0(tau,x,1,invariant),u_ff)+phi_1(tau,x,xdot,1,invariant)+\n",
    "                     mu[1]*(h_function(tau,x,xdot,1,invariant))**3) <= 0]\n",
    "    constraints.extend(hard_constraints)\n",
    "    prob = Problem(objective, constraints)\n",
    "    result = prob.solve(solver=ECOS_BB)        \n",
    "    return(v.value)"
   ]
  },
  {
   "cell_type": "code",
   "execution_count": 25,
   "metadata": {
    "collapsed": true
   },
   "outputs": [],
   "source": [
    "def geometric_control_law(tau,x,xdot,invariant):\n",
    "    G = np.concatenate((np.concatenate((H,np.zeros([3,1])),axis=1),np.array([np.array([0,0,0,Lambda])])),axis=0)\n",
    "    a = np.zeros([4,])     \n",
    "    c0 = np.concatenate((np.array([x]).T,np.zeros([1,1])),axis=0)\n",
    "    c1 = np.concatenate((np.array([-psi_0(tau,x,xdot)]).T,np.ones([1,1])),axis=0)    \n",
    "    c2 = np.concatenate((np.array([phi_0(tau,x,0,invariant)]).T,np.zeros([1,1])),axis=0)\n",
    "    c3 = np.concatenate((np.array([phi_0(tau,x,1,invariant)]).T,np.zeros([1,1])),axis=0)\n",
    "    C = np.concatenate((c0,c1,c2,c3),axis=1)\n",
    "    u_ff = feedforward_control_law(tau,x,xdot)\n",
    "    b0 = -np.inner(x,u_ff)\n",
    "    b1 = np.inner(psi_0(tau,x,xdot),u_ff)+psi_1(tau,x,xdot)+eta*CLF(tau,x,xdot)    \n",
    "    b2 = -(np.inner(phi_0(tau,x,0,invariant),u_ff)+phi_1(tau,x,xdot,0,invariant)+mu[0]*(h_function(tau,x,xdot,0,invariant))**3)\n",
    "    b3 = -(np.inner(phi_0(tau,x,1,invariant),u_ff)+phi_1(tau,x,xdot,1,invariant)+mu[1]*(h_function(tau,x,xdot,1,invariant))**3)\n",
    "    b = np.array([np.asscalar(b0),np.asscalar(b1),np.asscalar(b2),np.asscalar(b3)])    \n",
    "    v,f,vu,iterations,lagrangian,iact = QP.solve_qp(G,a,C,b,1)\n",
    "    v = np.array(v[0:3])\n",
    "    return(v)"
   ]
  },
  {
   "cell_type": "code",
   "execution_count": 270,
   "metadata": {
    "collapsed": true
   },
   "outputs": [],
   "source": [
    "t0 = 0\n",
    "tmax = 60\n",
    "n_points = np.round(tmax-t0)*30\n",
    "alpha = 1\n",
    "epsilon = 0.05\n",
    "gamma = 10*[1,1]\n",
    "\n",
    "H = 6*np.array([[1, 0, 0],[0, 1, 0],[0,0,1]])\n",
    "Lambda = 20\n",
    "eta = 50\n",
    "mu = [5,5]\n",
    "invariance = 0"
   ]
  },
  {
   "cell_type": "code",
   "execution_count": 271,
   "metadata": {
    "collapsed": true
   },
   "outputs": [],
   "source": [
    "theta0 = 1.45 \n",
    "phi0 = 0\n",
    "q0 = np.array([np.sin(theta0)*np.cos(phi0),np.sin(theta0)*np.sin(phi0),np.cos(theta0)])\n",
    "q0 = q0/np.linalg.norm(q0)\n",
    "qdot0 = np.array([0,0,0])"
   ]
  },
  {
   "cell_type": "code",
   "execution_count": 272,
   "metadata": {
    "collapsed": true
   },
   "outputs": [],
   "source": [
    "t = np.linspace(t0,tmax,n_points)\n",
    "q = np.zeros([t.shape[0],3])\n",
    "qdot = np.zeros([t.shape[0],3])\n",
    "qd = np.zeros([t.shape[0],3])\n",
    "qd_dot = np.zeros([t.shape[0],3])\n",
    "g0 = np.zeros([t.shape[0],1])\n",
    "g1 = np.zeros([t.shape[0],1])\n",
    "gd0 = np.zeros([t.shape[0],1])\n",
    "gd1 = np.zeros([t.shape[0],1])\n",
    "h0 = np.zeros([t.shape[0],1])\n",
    "h1 = np.zeros([t.shape[0],1])\n",
    "V = np.zeros([t.shape[0],1])\n",
    "q[0,:] = q0\n",
    "qdot[0,:] = qdot0\n",
    "qd[0,:] = reference(t[0])\n",
    "qd_dot[0,:] = reference_velocity(t[0])\n",
    "V[0] = CLF(0,q0,qdot0)\n",
    "g0[0] = safety_constraints(0,q0,invariance,0)\n",
    "g1[0] = safety_constraints(0,q0,invariance,1)\n",
    "gd0[0] = safety_constraints(0,qd[0],invariance,0)\n",
    "gd1[0] = safety_constraints(0,qd[0],invariance,1)\n",
    "h0[0] = h_function(0,q0,qdot0,0,invariance)\n",
    "h1[0] = h_function(0,q0,qdot0,1,invariance)"
   ]
  },
  {
   "cell_type": "code",
   "execution_count": 273,
   "metadata": {
    "collapsed": true
   },
   "outputs": [],
   "source": [
    "for i in range(1,t.size):\n",
    "    u_ff = feedforward_control_law(t[i-1],q[i-1,:],qdot[i-1,:])\n",
    "    u_fb = geometric_control_law_2(t[i-1],q[i-1,:],qdot[i-1,:],invariance).T\n",
    "    u = u_ff+u_fb    \n",
    "    q[i,:],qdot[i,:] = euler_step(t[i-1:i+1],q[i-1,:],qdot[i-1,:],u)    \n",
    "    qd[i,:] = reference(t[i])\n",
    "    qd_dot[i,:] = reference_velocity(t[i])    \n",
    "    V[i] = CLF(t[i],q[i,:],qdot[i,:])\n",
    "    g0[i] = safety_constraints(t[i],q[i,:],invariance,0)\n",
    "    g1[i] = safety_constraints(t[i],q[i,:],invariance,1)\n",
    "    gd0[i] = safety_constraints(t[i],qd[i,:],invariance,0)\n",
    "    gd1[i] = safety_constraints(t[i],qd[i,:],invariance,1)\n",
    "    h0[i] = h_function(t[i],q[i,:],qdot[i,:],0,invariance)\n",
    "    h1[i] = h_function(t[i],q[i,:],qdot[i,:],1,invariance)"
   ]
  },
  {
   "cell_type": "code",
   "execution_count": 279,
   "metadata": {
    "collapsed": true
   },
   "outputs": [],
   "source": [
    "np.savetxt(\"q_var.txt\",q)\n",
    "np.savetxt(\"qd_var.txt\",qd)\n",
    "np.savetxt(\"g0_var.txt\",g0)\n",
    "np.savetxt(\"g1_var.txt\",g1)\n",
    "np.savetxt(\"gd0_var.txt\",gd0)\n",
    "np.savetxt(\"gd1_var.txt\",gd1)\n",
    "np.savetxt(\"V_var.txt\",V)\n",
    "np.savetxt(\"t_var.txt\",t)"
   ]
  },
  {
   "cell_type": "code",
   "execution_count": 175,
   "metadata": {},
   "outputs": [
    {
     "name": "stderr",
     "output_type": "stream",
     "text": [
      "/usr/lib/python3/dist-packages/mpl_toolkits/mplot3d/axes3d.py:120: MatplotlibDeprecationWarning: The axesPatch function was deprecated in version 2.1. Use Axes.patch instead.\n",
      "  self.axesPatch.set_linewidth(0)\n",
      "/usr/lib/python3/dist-packages/mpl_toolkits/mplot3d/axes3d.py:1528: MatplotlibDeprecationWarning: The is_scalar function was deprecated in version 2.1.\n",
      "  if len(args[0]) == 0 or cbook.is_scalar(args[0][0]) :\n",
      "/usr/lib/python3/dist-packages/mpl_toolkits/mplot3d/axes3d.py:247: MatplotlibDeprecationWarning: The axesPatch function was deprecated in version 2.1. Use Axes.patch instead.\n",
      "  self.axesPatch.draw(renderer)\n"
     ]
    }
   ],
   "source": [
    "fig = plt.figure()\n",
    "ax = p3.Axes3D(fig)\n",
    "ax.plot3D(q[:,0], q[:,1], q[:,2])\n",
    "ax.plot3D(qd[:,0], qd[:,1], qd[:,2])\n",
    "ax.set_autoscalez_on(False)\n",
    "ax.set_xlim([-1,1])\n",
    "ax.set_ylim([-1,1])\n",
    "ax.set_zlim3d(bottom=-1, top=1)\n",
    "ax.set_aspect('equal')\n",
    "plt.savefig(\"second_trajectory1.pdf\")\n",
    "plt.close()"
   ]
  },
  {
   "cell_type": "code",
   "execution_count": 277,
   "metadata": {
    "collapsed": true
   },
   "outputs": [],
   "source": [
    "width = 3.487\n",
    "height = width / 1.618\n",
    "f, arr = plt.subplots(figsize = (3*width, 3*height),nrows = 1, ncols=3)\n",
    "for i in range(3):\n",
    "    axq = arr[i]\n",
    "    axq.plot(t, q[:,i],label = r\"$q$\")\n",
    "    axq.plot(t, qd[:,i],label = r\"$q_d$\")\n",
    "    axq.set_xlabel(\"Time[s]\")\n",
    "    axq.set_title(r\"$q_{}$\".format(i))\n",
    "    axq.legend(loc = 'best')\n",
    "f.tight_layout(rect=[0, 0.03, 1, 0.95])\n",
    "f.savefig('m_invariant_time_plots.pdf')\n",
    "plt.close()"
   ]
  },
  {
   "cell_type": "code",
   "execution_count": 278,
   "metadata": {},
   "outputs": [
    {
     "data": {
      "image/png": "[encoded data removed]",
      "text/plain": [
       "<matplotlib.figure.Figure at 0x7fad3c37a358>"
      ]
     },
     "metadata": {},
     "output_type": "display_data"
    }
   ],
   "source": [
    "plt.plot(t,g0,t,gd0)\n",
    "plt.show()\n",
    "plt.close()"
   ]
  },
  {
   "cell_type": "code",
   "execution_count": null,
   "metadata": {
    "collapsed": true
   },
   "outputs": [],
   "source": []
  }
 ],
 "metadata": {
  "kernelspec": {
   "display_name": "Python 3",
   "language": "python",
   "name": "python3"
  },
  "language_info": {
   "codemirror_mode": {
    "name": "ipython",
    "version": 3
   },
   "file_extension": ".py",
   "mimetype": "text/x-python",
   "name": "python",
   "nbconvert_exporter": "python",
   "pygments_lexer": "ipython3",
   "version": "3.5.2"
  }
 },
 "nbformat": 4,
 "nbformat_minor": 2
}
