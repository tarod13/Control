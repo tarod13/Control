{
 "cells": [
  {
   "cell_type": "code",
   "execution_count": 1,
   "metadata": {
    "collapsed": true
   },
   "outputs": [],
   "source": [
    "import numpy as np\n",
    "import pylab as plt\n",
    "import quadprog as QP"
   ]
  },
  {
   "cell_type": "code",
   "execution_count": 128,
   "metadata": {
    "collapsed": true
   },
   "outputs": [],
   "source": [
    "def hat_map(x):   \n",
    "    return np.array([[0,-x[2],x[1]],[x[2],0,-x[0]],[-x[1],x[0],0]])"
   ]
  },
  {
   "cell_type": "code",
   "execution_count": 3,
   "metadata": {
    "collapsed": true
   },
   "outputs": [],
   "source": [
    "def position_dynamics(tau,x,xdot,v):\n",
    "    return(xdot)"
   ]
  },
  {
   "cell_type": "code",
   "execution_count": 4,
   "metadata": {
    "collapsed": true
   },
   "outputs": [],
   "source": [
    "def velocity_dynamics(tau,x,xdot,v):    \n",
    "    return(-np.inner(xdot,xdot)*x-np.dot(hat_map(q)**2,v))"
   ]
  },
  {
   "cell_type": "code",
   "execution_count": 48,
   "metadata": {
    "collapsed": true
   },
   "outputs": [],
   "source": [
    "def reference(tau):\n",
    "    ref_theta = 3*np.pi/4\n",
    "    ref_phi = 0.25*tau\n",
    "    return(np.array([np.sin(ref_theta)*np.cos(ref_phi),np.sin(ref_theta)*np.sin(ref_phi),np.cos(ref_theta)]))"
   ]
  },
  {
   "cell_type": "code",
   "execution_count": 49,
   "metadata": {
    "collapsed": true
   },
   "outputs": [],
   "source": [
    "def reference_velocity(tau):\n",
    "    ref_theta = 3*np.pi/4\n",
    "    ref_phi = 0.25*tau\n",
    "    return(np.array([-0.25*np.sin(ref_theta)*np.sin(ref_phi),0.25*np.sin(ref_theta)*np.cos(ref_phi),np.cos(ref_theta)]))"
   ]
  },
  {
   "cell_type": "code",
   "execution_count": 50,
   "metadata": {
    "collapsed": true
   },
   "outputs": [],
   "source": [
    "def reference_acceleration(tau):\n",
    "    ref_theta = 3*np.pi/4\n",
    "    ref_phi = 0.25*tau\n",
    "    return(np.array([-0.25**2*np.sin(ref_theta)*np.cos(ref_phi),-0.25**2*np.sin(ref_theta)*np.sin(ref_phi),np.cos(ref_theta)]))"
   ]
  },
  {
   "cell_type": "code",
   "execution_count": 51,
   "metadata": {},
   "outputs": [],
   "source": [
    "def safety_center(tau,invariant):\n",
    "    if invariant == 1:\n",
    "        return(np.array([0,0,-1]))\n",
    "    else:\n",
    "        ref_theta = 4*np.pi/5\n",
    "        ref_phi = 0.25*tau\n",
    "        return(np.array([np.sin(ref_theta)*np.cos(ref_phi),np.sin(ref_theta)*np.sin(ref_phi),np.cos(ref_theta)]))"
   ]
  },
  {
   "cell_type": "code",
   "execution_count": 52,
   "metadata": {
    "collapsed": true
   },
   "outputs": [],
   "source": [
    "def safety_center_velocity(tau,invariant):  \n",
    "    if invariant == 1:\n",
    "        return(np.array([0,0,0]))\n",
    "    else:\n",
    "        ref_theta = 4*np.pi/5\n",
    "        ref_phi = 0.25*tau\n",
    "        return(np.array([-0.25*np.sin(ref_theta)*np.sin(ref_phi),0.25*np.sin(ref_theta)*np.cos(ref_phi),np.cos(ref_theta)]))"
   ]
  },
  {
   "cell_type": "code",
   "execution_count": 53,
   "metadata": {
    "collapsed": true
   },
   "outputs": [],
   "source": [
    "def safety_center_acceleration(tau,invariant):  \n",
    "    if invariant == 1:\n",
    "        return(np.array([0,0,0]))\n",
    "    else:\n",
    "        ref_theta = 4*np.pi/5\n",
    "        ref_phi = 0.25*tau\n",
    "        return(np.array([-0.25**2*np.sin(ref_theta)*np.cos(ref_phi),-0.25**2*np.sin(ref_theta)*np.sin(ref_phi),np.cos(ref_theta)]))"
   ]
  },
  {
   "cell_type": "code",
   "execution_count": 11,
   "metadata": {
    "collapsed": true
   },
   "outputs": [],
   "source": [
    "def position_error(tau,x):\n",
    "    return(np.dot(hat_map(x)**2,reference(tau)))"
   ]
  },
  {
   "cell_type": "code",
   "execution_count": 12,
   "metadata": {
    "collapsed": true
   },
   "outputs": [],
   "source": [
    "def velocity_error(tau,x,xdot):    \n",
    "    return(xdot-np.cross(np.cross(reference(tau),reference_velocity(tau)),x))"
   ]
  },
  {
   "cell_type": "code",
   "execution_count": 13,
   "metadata": {
    "collapsed": true
   },
   "outputs": [],
   "source": [
    "def safety_constraints(tau,x,invariant,i):\n",
    "    if i == 0:\n",
    "        g = np.cos(np.pi/12)+np.inner(x,safety_center(tau,invariant))\n",
    "    else:\n",
    "        if i == 1:\n",
    "            g = -np.cos(np.pi/4)-np.inner(x,safety_center(tau,invariant))\n",
    "    return(g)"
   ]
  },
  {
   "cell_type": "code",
   "execution_count": 14,
   "metadata": {
    "collapsed": true
   },
   "outputs": [],
   "source": [
    "def CLF(tau,x,xdot):\n",
    "    V1 = 0.5*np.inner(velocity_error(tau,x,xdot),velocity_error(tau,x,xdot))\n",
    "    V2 = 0.5*alpha*(1-np.inner(x,reference(tau)))\n",
    "    V3 = epsilon*np.inner(position_error(tau,x),velocity_error(tau,x,xdot))\n",
    "    return(V1+V2+V3)"
   ]
  },
  {
   "cell_type": "code",
   "execution_count": 15,
   "metadata": {
    "collapsed": true
   },
   "outputs": [],
   "source": [
    "def h_function(tau,x,xdot,i,invariant):\n",
    "    return(gamma[i]*safety_constraints(tau,x,invariant,i) + \n",
    "           (-1)**i*(np.inner(safety_center(tau,invariant),xdot)+np.inner(safety_center_velocity(tau,invariant),x)))"
   ]
  },
  {
   "cell_type": "code",
   "execution_count": 16,
   "metadata": {
    "collapsed": true
   },
   "outputs": [],
   "source": [
    "def CBF(tau,x,xdot,i,invariant):     \n",
    "    return(1/h_function(tau,x,xdot,i,invariant))"
   ]
  },
  {
   "cell_type": "code",
   "execution_count": 95,
   "metadata": {
    "collapsed": true
   },
   "outputs": [],
   "source": [
    "def feedforward_control_law(tau,x,xdot):\n",
    "    u1 = np.cross(np.cross(reference(tau),reference_acceleration(tau)),x)    \n",
    "    u2 = -np.dot(hat_map(x)**2,np.cross((np.cross(reference(tau),reference_velocity(tau))),xdot).T).T    \n",
    "    return(u1+u2)"
   ]
  },
  {
   "cell_type": "code",
   "execution_count": 18,
   "metadata": {
    "collapsed": true
   },
   "outputs": [],
   "source": [
    "def phi_0(tau,i,invariant):    \n",
    "    return((-1)**i*safety_center(tau,invariant))"
   ]
  },
  {
   "cell_type": "code",
   "execution_count": 57,
   "metadata": {
    "collapsed": true
   },
   "outputs": [],
   "source": [
    "def phi_1(tau,x,xdot,i,invariant):    \n",
    "    p1 = gamma[i]*(h_function(tau,x,xdot,i,invariant)-gamma[i]*safety_constraints(tau,x,invariant,i))\n",
    "    p2 = (-1)**i*(2*np.inner(xdot,safety_center_velocity(tau,invariant))+\n",
    "                    np.inner(x,safety_center_acceleration(tau,invariant))-\n",
    "                    np.inner(xdot,xdot)*np.inner(safety_center(tau,invariant),x))\n",
    "    return(p1+p2)"
   ]
  },
  {
   "cell_type": "code",
   "execution_count": 20,
   "metadata": {
    "collapsed": true
   },
   "outputs": [],
   "source": [
    "def psi_0(tau,x,xdot):\n",
    "    return(velocity_error(tau,x,xdot) + epsilon*position_error(tau,x))"
   ]
  },
  {
   "cell_type": "code",
   "execution_count": 81,
   "metadata": {
    "collapsed": true
   },
   "outputs": [],
   "source": [
    "def psi_1(tau,x,xdot):\n",
    "    p11 = np.cross(np.cross(reference(tau),reference_acceleration(tau)),x)\n",
    "    p12 = np.cross((np.cross(reference(tau),reference_velocity(tau))),xdot)\n",
    "    P1 = -np.inner(psi_0(tau,x,xdot),p11+p12)\n",
    "    P2 = -0.5*alpha*(np.inner(xdot,reference(tau))+np.inner(x,reference_velocity(tau)))\n",
    "    p31 = np.cross(xdot,(np.cross(x,reference(tau))))\n",
    "    p32 = np.cross(x,(np.cross(xdot,reference(tau))+np.cross(x,reference_velocity(tau))))\n",
    "    P3 = np.inner(epsilon*position_error(tau,x),p31+p32)    \n",
    "    return(P1+P2+P3)"
   ]
  },
  {
   "cell_type": "code",
   "execution_count": 22,
   "metadata": {
    "collapsed": true
   },
   "outputs": [],
   "source": [
    "def second_order_rk4_step(tau,x0,xdot0,v):    \n",
    "    h = tau[1]-tau[0]\n",
    "    k11 = h*position_dynamics(tau[0],x0,xdot0,v)\n",
    "    k12 = h*velocity_dynamics(tau[0],x0,xdot0,v)\n",
    "    k21 = h*position_dynamics(tau[0]+h/2,x0+k11/2,xdot0+k12/2,v)\n",
    "    k22 = h*velocity_dynamics(tau[0]+h/2,x0+k11/2,xdot0+k12/2,v)\n",
    "    k31 = h*position_dynamics(tau[0]+h/2,x0+k21/2,xdot0+k22/2,v)\n",
    "    k32 = h*velocity_dynamics(tau[0]+h/2,x0+k21/2,xdot0+k22/2,v)\n",
    "    k41 = h*position_dynamics(tau[0]+h,x0+k31,xdot0+k32,v)\n",
    "    k42 = h*velocity_dynamics(tau[0]+h,x0+k31,xdot0+k32,v)\n",
    "    x = x0 + (k11+2*k21+2*k31+k41)/6\n",
    "    xdot = xdot0 + (k12+2*k22+2*k32+k42)/6\n",
    "    return(x,xdot)"
   ]
  },
  {
   "cell_type": "code",
   "execution_count": 152,
   "metadata": {},
   "outputs": [],
   "source": [
    "def geometric_control_law(tau,x,xdot,invariant):\n",
    "    G = np.concatenate((np.concatenate((H,np.zeros([3,1])),axis=1),np.array([np.array([0,0,0,Lambda])])),axis=0)\n",
    "    a = np.zeros([4,])     \n",
    "    c1 = np.concatenate((np.array([-psi_0(tau,x,xdot)]).T,np.zeros([1,1])),axis=0)    \n",
    "    c2 = np.concatenate((np.array([phi_0(tau,0,invariant)]).T,np.zeros([1,1])),axis=0)\n",
    "    c3 = np.concatenate((np.array([phi_0(tau,1,invariant)]).T,np.zeros([1,1])),axis=0)\n",
    "    C = np.concatenate((c1,c2,c3),axis=1)\n",
    "    u_ff = feedforward_control_law(tau,x,xdot)\n",
    "    b1 = np.inner(psi_0(tau,x,xdot),u_ff)+psi_1(tau,x,xdot)+eta*CLF(tau,x,xdot)    \n",
    "    b2 = -(np.inner(phi_0(tau,0,invariant),u_ff)+phi_1(tau,x,xdot,0,invariant)+mu[0]*h_function(tau,x,xdot,0,invariant)**3)\n",
    "    b3 = -(np.inner(phi_0(tau,1,invariant),u_ff)+phi_1(tau,x,xdot,1,invariant)+mu[1]*h_function(tau,x,xdot,1,invariant)**3)\n",
    "    b = np.array([np.asscalar(b1),np.asscalar(b2),np.asscalar(b3)])    \n",
    "    x,f,xu,iterations,lagrangian,iact = QP.solve_qp(G,a,C,b)\n",
    "    return(x)"
   ]
  },
  {
   "cell_type": "code",
   "execution_count": 153,
   "metadata": {},
   "outputs": [
    {
     "name": "stdout",
     "output_type": "stream",
     "text": [
      "[-8.91153551  0.59487076  8.61115074  0.        ]\n"
     ]
    }
   ],
   "source": [
    "geometric_control_law(0,q0,qdot0,0)"
   ]
  },
  {
   "cell_type": "code",
   "execution_count": 134,
   "metadata": {},
   "outputs": [
    {
     "data": {
      "text/plain": [
       "(3,)"
      ]
     },
     "execution_count": 134,
     "metadata": {},
     "output_type": "execute_result"
    }
   ],
   "source": [
    "psi_0(0,q0,qdot0).shape"
   ]
  },
  {
   "cell_type": "code",
   "execution_count": 158,
   "metadata": {
    "collapsed": true
   },
   "outputs": [],
   "source": [
    "t0 = 0\n",
    "tmax = 10\n",
    "n_points = 100\n",
    "alpha = 1\n",
    "epsilon = 1\n",
    "gamma = [1,1]\n",
    "\n",
    "H = np.array([[2, 1, 1],[1, 2, 1],[1,1,2]])\n",
    "Lambda = 10\n",
    "eta = 1\n",
    "mu = [1,1]\n",
    "invariant = 1"
   ]
  },
  {
   "cell_type": "code",
   "execution_count": 124,
   "metadata": {
    "collapsed": true
   },
   "outputs": [],
   "source": [
    "theta0 = 11*np.pi/15 \n",
    "phi0 = 0\n",
    "q0 = np.array([np.sin(theta0)*np.cos(phi0),np.sin(theta0)*np.sin(phi0),np.cos(theta0)])\n",
    "qdot0 = np.array([0,0,0])"
   ]
  },
  {
   "cell_type": "code",
   "execution_count": 156,
   "metadata": {
    "collapsed": true
   },
   "outputs": [],
   "source": [
    "t = np.linspace(t0,tmax,n_points)\n",
    "q = np.zeros([t.shape[0],3])\n",
    "qdot = np.zeros([t.shape[0],3])\n",
    "qd = np.zeros([t.shape[0],3])\n",
    "qd_dot = np.zeros([t.shape[0],3])\n",
    "q[0,:] = q0\n",
    "qdot[0,:] = qdot0\n",
    "qd[0,:] = reference(t[0])\n",
    "qd_dot[0,:] = reference_velocity(t[0])"
   ]
  },
  {
   "cell_type": "code",
   "execution_count": 39,
   "metadata": {},
   "outputs": [
    {
     "name": "stdout",
     "output_type": "stream",
     "text": [
      "1\n",
      "2\n",
      "3\n",
      "4\n",
      "5\n",
      "6\n",
      "7\n",
      "8\n",
      "9\n",
      "10\n",
      "11\n",
      "12\n",
      "13\n",
      "14\n",
      "15\n",
      "16\n",
      "17\n",
      "18\n",
      "19\n",
      "20\n",
      "21\n",
      "22\n",
      "23\n",
      "24\n",
      "25\n",
      "26\n",
      "27\n",
      "28\n",
      "29\n",
      "30\n",
      "31\n",
      "32\n",
      "33\n",
      "34\n",
      "35\n",
      "36\n",
      "37\n",
      "38\n",
      "39\n",
      "40\n",
      "41\n",
      "42\n",
      "43\n",
      "44\n",
      "45\n",
      "46\n",
      "47\n",
      "48\n",
      "49\n",
      "50\n",
      "51\n",
      "52\n",
      "53\n",
      "54\n",
      "55\n",
      "56\n",
      "57\n",
      "58\n",
      "59\n",
      "60\n",
      "61\n",
      "62\n",
      "63\n",
      "64\n",
      "65\n",
      "66\n",
      "67\n",
      "68\n",
      "69\n",
      "70\n",
      "71\n",
      "72\n",
      "73\n",
      "74\n",
      "75\n",
      "76\n",
      "77\n",
      "78\n",
      "79\n",
      "80\n",
      "81\n",
      "82\n",
      "83\n",
      "84\n",
      "85\n",
      "86\n",
      "87\n",
      "88\n",
      "89\n",
      "90\n",
      "91\n",
      "92\n",
      "93\n",
      "94\n",
      "95\n",
      "96\n",
      "97\n",
      "98\n",
      "99\n"
     ]
    }
   ],
   "source": [
    "for i in range(1,t.size):\n",
    "    u_ff = feedforward_control_law(tau,x,xdot)\n",
    "    u_fb = geometric_control_law(tau,x,xdot,invariant)\n",
    "    u = u_ff+u_fb\n",
    "    q[i,:],qdot[i,:] = second_order_rk4_step(t[i:i-1],q[i-1,:],qdot[i-1,:],u)\n",
    "    qd[i,:] = reference(t[i])\n",
    "    qd_dot[i,:] = reference_velocity(t[i])"
   ]
  },
  {
   "cell_type": "code",
   "execution_count": 37,
   "metadata": {},
   "outputs": [
    {
     "data": {
      "text/plain": [
       "100"
      ]
     },
     "execution_count": 37,
     "metadata": {},
     "output_type": "execute_result"
    }
   ],
   "source": [
    "t.size"
   ]
  },
  {
   "cell_type": "code",
   "execution_count": null,
   "metadata": {
    "collapsed": true
   },
   "outputs": [],
   "source": []
  }
 ],
 "metadata": {
  "kernelspec": {
   "display_name": "Python 3",
   "language": "python",
   "name": "python3"
  },
  "language_info": {
   "codemirror_mode": {
    "name": "ipython",
    "version": 3
   },
   "file_extension": ".py",
   "mimetype": "text/x-python",
   "name": "python",
   "nbconvert_exporter": "python",
   "pygments_lexer": "ipython3",
   "version": "3.5.2"
  }
 },
 "nbformat": 4,
 "nbformat_minor": 2
}
